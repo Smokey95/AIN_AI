{
 "cells": [
  {
   "attachments": {},
   "cell_type": "markdown",
   "metadata": {},
   "source": [
    "# Titanic with neuronal networks"
   ]
  },
  {
   "attachments": {},
   "cell_type": "markdown",
   "metadata": {},
   "source": [
    "The following code was given from the lecturer and should be expanded to create a neuronal network for the titanic dataset."
   ]
  },
  {
   "cell_type": "code",
   "execution_count": 150,
   "metadata": {},
   "outputs": [
    {
     "name": "stdout",
     "output_type": "stream",
     "text": [
      "Model: \"sequential_12\"\n",
      "_________________________________________________________________\n",
      " Layer (type)                Output Shape              Param #   \n",
      "=================================================================\n",
      " dense_70 (Dense)            (None, 10)                50        \n",
      "                                                                 \n",
      " dense_71 (Dense)            (None, 1)                 11        \n",
      "                                                                 \n",
      "=================================================================\n",
      "Total params: 61\n",
      "Trainable params: 61\n",
      "Non-trainable params: 0\n",
      "_________________________________________________________________\n"
     ]
    }
   ],
   "source": [
    "import tensorflow as tf\n",
    "import tensorflow.keras \n",
    "from tensorflow.keras.models import Sequential\n",
    "from tensorflow.keras.layers import Dense\n",
    "model = Sequential()\n",
    "model.add(Dense(..., activation='sigmoid', batch_input_shape=(None, 4))) #We have 4 input features\n",
    "#...\n",
    "model.add(Dense(1, activation='sigmoid'))\n",
    "opt = tf.keras.optimizers.Adam(learning_rate=1e-3)\n",
    "model.compile(loss=tf.keras.losses.BinaryCrossentropy(),\n",
    "              optimizer=opt,\n",
    "              metrics=['accuracy'])\n",
    "model.summary()"
   ]
  },
  {
   "attachments": {},
   "cell_type": "markdown",
   "metadata": {},
   "source": [
    "## Imports"
   ]
  },
  {
   "attachments": {},
   "cell_type": "markdown",
   "metadata": {},
   "source": [
    "Import the following packages:"
   ]
  },
  {
   "cell_type": "code",
   "execution_count": 67,
   "metadata": {},
   "outputs": [],
   "source": [
    "import tensorflow as tf\n",
    "import tensorflow.keras\n",
    "\n",
    "from tensorflow.keras.models import Sequential\n",
    "from tensorflow.keras.layers import Dense\n",
    "from tensorflow.keras.layers import BatchNormalization\n",
    "from tensorflow.keras.layers import Normalization\n",
    "from tensorflow.keras.layers import Dropout\n",
    "\n",
    "import pandas as pd\n",
    "\n",
    "import numpy as np\n",
    "\n",
    "# Nice function to split a known data set to a test and trin set\n",
    "from sklearn.model_selection import train_test_split\n",
    "\n",
    "# Nice function for plotting\n",
    "# Install via pip: pip install tensorflow-history-plot\n",
    "from tensorflow_history_plot import show_acc"
   ]
  },
  {
   "attachments": {},
   "cell_type": "markdown",
   "metadata": {},
   "source": [
    "***\n",
    "\n",
    "Read the data from the csv file and show some infos about the data:"
   ]
  },
  {
   "cell_type": "code",
   "execution_count": 2,
   "metadata": {},
   "outputs": [],
   "source": [
    "train_data = pd.read_csv(\"data/train.csv\")"
   ]
  },
  {
   "cell_type": "code",
   "execution_count": 3,
   "metadata": {},
   "outputs": [
    {
     "name": "stdout",
     "output_type": "stream",
     "text": [
      "<class 'pandas.core.frame.DataFrame'>\n",
      "RangeIndex: 891 entries, 0 to 890\n",
      "Data columns (total 12 columns):\n",
      " #   Column       Non-Null Count  Dtype  \n",
      "---  ------       --------------  -----  \n",
      " 0   PassengerId  891 non-null    int64  \n",
      " 1   Survived     891 non-null    int64  \n",
      " 2   Pclass       891 non-null    int64  \n",
      " 3   Name         891 non-null    object \n",
      " 4   Sex          891 non-null    object \n",
      " 5   Age          714 non-null    float64\n",
      " 6   SibSp        891 non-null    int64  \n",
      " 7   Parch        891 non-null    int64  \n",
      " 8   Ticket       891 non-null    object \n",
      " 9   Fare         891 non-null    float64\n",
      " 10  Cabin        204 non-null    object \n",
      " 11  Embarked     889 non-null    object \n",
      "dtypes: float64(2), int64(5), object(5)\n",
      "memory usage: 83.7+ KB\n"
     ]
    }
   ],
   "source": [
    "train_data.info()"
   ]
  },
  {
   "attachments": {},
   "cell_type": "markdown",
   "metadata": {},
   "source": [
    "## Data preparation"
   ]
  },
  {
   "attachments": {},
   "cell_type": "markdown",
   "metadata": {},
   "source": [
    "Define the features we want to use to train our neuronal network"
   ]
  },
  {
   "cell_type": "code",
   "execution_count": 68,
   "metadata": {},
   "outputs": [],
   "source": [
    "# Read data again in case you have already manipulated it\n",
    "train_data = pd.read_csv(\"data/train.csv\") \n",
    "\n",
    "# Fill missing age in train data\n",
    "train_data[\"Age\"].fillna(train_data[\"Age\"].median(skipna=True), inplace=True) \n",
    "\n",
    "# Define features we want to use\n",
    "features = [\"Pclass\", \"Survived\", \"Sex\", \"Age\"]\n",
    "\n",
    "# Get the features we want to use\n",
    "train_data = pd.get_dummies(train_data[features])"
   ]
  },
  {
   "attachments": {},
   "cell_type": "markdown",
   "metadata": {},
   "source": [
    "Show the info of the modified dataset (notice that there should be a equal amount of \"not null\" values for the columns)"
   ]
  },
  {
   "cell_type": "code",
   "execution_count": 69,
   "metadata": {},
   "outputs": [
    {
     "name": "stdout",
     "output_type": "stream",
     "text": [
      "<class 'pandas.core.frame.DataFrame'>\n",
      "RangeIndex: 891 entries, 0 to 890\n",
      "Data columns (total 5 columns):\n",
      " #   Column      Non-Null Count  Dtype  \n",
      "---  ------      --------------  -----  \n",
      " 0   Pclass      891 non-null    int64  \n",
      " 1   Survived    891 non-null    int64  \n",
      " 2   Age         891 non-null    float64\n",
      " 3   Sex_female  891 non-null    bool   \n",
      " 4   Sex_male    891 non-null    bool   \n",
      "dtypes: bool(2), float64(1), int64(2)\n",
      "memory usage: 22.7 KB\n"
     ]
    }
   ],
   "source": [
    "train_data.info()"
   ]
  },
  {
   "attachments": {},
   "cell_type": "markdown",
   "metadata": {},
   "source": [
    "Split the data into training and test data. Therefore we will first split the data into a \"X\" and \"y\" part. The \"X\" part contains all features and the \"y\" part contains the label (survived or not). After that we will split the data into training and test data."
   ]
  },
  {
   "cell_type": "code",
   "execution_count": 70,
   "metadata": {},
   "outputs": [
    {
     "name": "stdout",
     "output_type": "stream",
     "text": [
      "Input features shape: (891, 4)\n",
      "Labels shape: (891,)\n"
     ]
    }
   ],
   "source": [
    "X = train_data.drop('Survived', axis=1, inplace=False)\n",
    "y = train_data['Survived']\n",
    "\n",
    "print(f'Input features shape: {X.shape}')\n",
    "print(f'Labels shape: {y.shape}')"
   ]
  },
  {
   "attachments": {},
   "cell_type": "markdown",
   "metadata": {},
   "source": [
    "Using the `train_test_split` function from the `sklearn.model_selection` package, split the data into training and test data. \n",
    "This is an easy and fast way to split the data into training and test data. The function will return 4 values: `X_train`, `X_test`, `y_train` and `y_test`. The `X` values are the features (in our case the columns `Pclass`, `Sex`, `Age`) and the `y` values are the labels (in our case the column `Survived`)."
   ]
  },
  {
   "cell_type": "code",
   "execution_count": 71,
   "metadata": {},
   "outputs": [],
   "source": [
    "\n",
    "X_train, X_val, y_train, y_val = train_test_split(X, y, test_size=0.2, random_state=42)"
   ]
  },
  {
   "cell_type": "code",
   "execution_count": 72,
   "metadata": {},
   "outputs": [
    {
     "data": {
      "text/html": [
       "<div>\n",
       "<style scoped>\n",
       "    .dataframe tbody tr th:only-of-type {\n",
       "        vertical-align: middle;\n",
       "    }\n",
       "\n",
       "    .dataframe tbody tr th {\n",
       "        vertical-align: top;\n",
       "    }\n",
       "\n",
       "    .dataframe thead th {\n",
       "        text-align: right;\n",
       "    }\n",
       "</style>\n",
       "<table border=\"1\" class=\"dataframe\">\n",
       "  <thead>\n",
       "    <tr style=\"text-align: right;\">\n",
       "      <th></th>\n",
       "      <th>Pclass</th>\n",
       "      <th>Age</th>\n",
       "      <th>Sex_female</th>\n",
       "      <th>Sex_male</th>\n",
       "    </tr>\n",
       "  </thead>\n",
       "  <tbody>\n",
       "    <tr>\n",
       "      <th>331</th>\n",
       "      <td>1</td>\n",
       "      <td>45.5</td>\n",
       "      <td>False</td>\n",
       "      <td>True</td>\n",
       "    </tr>\n",
       "    <tr>\n",
       "      <th>733</th>\n",
       "      <td>2</td>\n",
       "      <td>23.0</td>\n",
       "      <td>False</td>\n",
       "      <td>True</td>\n",
       "    </tr>\n",
       "    <tr>\n",
       "      <th>382</th>\n",
       "      <td>3</td>\n",
       "      <td>32.0</td>\n",
       "      <td>False</td>\n",
       "      <td>True</td>\n",
       "    </tr>\n",
       "    <tr>\n",
       "      <th>704</th>\n",
       "      <td>3</td>\n",
       "      <td>26.0</td>\n",
       "      <td>False</td>\n",
       "      <td>True</td>\n",
       "    </tr>\n",
       "    <tr>\n",
       "      <th>813</th>\n",
       "      <td>3</td>\n",
       "      <td>6.0</td>\n",
       "      <td>True</td>\n",
       "      <td>False</td>\n",
       "    </tr>\n",
       "    <tr>\n",
       "      <th>...</th>\n",
       "      <td>...</td>\n",
       "      <td>...</td>\n",
       "      <td>...</td>\n",
       "      <td>...</td>\n",
       "    </tr>\n",
       "    <tr>\n",
       "      <th>106</th>\n",
       "      <td>3</td>\n",
       "      <td>21.0</td>\n",
       "      <td>True</td>\n",
       "      <td>False</td>\n",
       "    </tr>\n",
       "    <tr>\n",
       "      <th>270</th>\n",
       "      <td>1</td>\n",
       "      <td>28.0</td>\n",
       "      <td>False</td>\n",
       "      <td>True</td>\n",
       "    </tr>\n",
       "    <tr>\n",
       "      <th>860</th>\n",
       "      <td>3</td>\n",
       "      <td>41.0</td>\n",
       "      <td>False</td>\n",
       "      <td>True</td>\n",
       "    </tr>\n",
       "    <tr>\n",
       "      <th>435</th>\n",
       "      <td>1</td>\n",
       "      <td>14.0</td>\n",
       "      <td>True</td>\n",
       "      <td>False</td>\n",
       "    </tr>\n",
       "    <tr>\n",
       "      <th>102</th>\n",
       "      <td>1</td>\n",
       "      <td>21.0</td>\n",
       "      <td>False</td>\n",
       "      <td>True</td>\n",
       "    </tr>\n",
       "  </tbody>\n",
       "</table>\n",
       "<p>712 rows × 4 columns</p>\n",
       "</div>"
      ],
      "text/plain": [
       "     Pclass   Age  Sex_female  Sex_male\n",
       "331       1  45.5       False      True\n",
       "733       2  23.0       False      True\n",
       "382       3  32.0       False      True\n",
       "704       3  26.0       False      True\n",
       "813       3   6.0        True     False\n",
       "..      ...   ...         ...       ...\n",
       "106       3  21.0        True     False\n",
       "270       1  28.0       False      True\n",
       "860       3  41.0       False      True\n",
       "435       1  14.0        True     False\n",
       "102       1  21.0       False      True\n",
       "\n",
       "[712 rows x 4 columns]"
      ]
     },
     "execution_count": 72,
     "metadata": {},
     "output_type": "execute_result"
    }
   ],
   "source": [
    "X_train"
   ]
  },
  {
   "attachments": {},
   "cell_type": "markdown",
   "metadata": {},
   "source": [
    "## Neural Network\n",
    "\n",
    "In the following section, the neuronal network is created and trained.\n",
    "\n",
    "First we have to convert the data into a format that can be used by the neuronal network. Therefore we will use the `asarrray` function from the `numpy` package. This function will convert the data into a numpy array."
   ]
  },
  {
   "cell_type": "code",
   "execution_count": 73,
   "metadata": {},
   "outputs": [],
   "source": [
    "X_train = np.asarray(X_train).astype('float32')\n",
    "X_val = np.asarray(X_val).astype('float32')\n",
    "y_train = np.asarray(y_train).astype('float32')\n",
    "y_val = np.asarray(y_val).astype('float32')"
   ]
  },
  {
   "attachments": {},
   "cell_type": "markdown",
   "metadata": {},
   "source": [
    "The `X` values will be converted into a 2 dimensional array..."
   ]
  },
  {
   "cell_type": "code",
   "execution_count": 74,
   "metadata": {},
   "outputs": [
    {
     "data": {
      "text/plain": [
       "array([[ 1. , 45.5,  0. ,  1. ],\n",
       "       [ 2. , 23. ,  0. ,  1. ],\n",
       "       [ 3. , 32. ,  0. ,  1. ],\n",
       "       ...,\n",
       "       [ 3. , 41. ,  0. ,  1. ],\n",
       "       [ 1. , 14. ,  1. ,  0. ],\n",
       "       [ 1. , 21. ,  0. ,  1. ]], dtype=float32)"
      ]
     },
     "execution_count": 74,
     "metadata": {},
     "output_type": "execute_result"
    }
   ],
   "source": [
    "X_train"
   ]
  },
  {
   "attachments": {},
   "cell_type": "markdown",
   "metadata": {},
   "source": [
    "... and the `y` values will be converted into a 1 dimensional array."
   ]
  },
  {
   "cell_type": "code",
   "execution_count": 75,
   "metadata": {},
   "outputs": [
    {
     "data": {
      "text/plain": [
       "array([0., 0., 0., 0., 0., 0., 0., 0., 0., 1., 1., 0., 0., 0., 1., 1., 1.,\n",
       "       1., 0., 1., 0., 0., 0., 1., 1., 1., 1., 0., 1., 0., 0., 0., 0., 1.,\n",
       "       0., 0., 0., 1., 0., 1., 0., 0., 0., 0., 1., 0., 1., 0., 1., 1., 1.,\n",
       "       0., 1., 0., 1., 0., 1., 1., 1., 1., 0., 0., 1., 0., 0., 0., 0., 0.,\n",
       "       0., 0., 1., 1., 0., 0., 0., 1., 1., 0., 1., 0., 1., 1., 0., 1., 1.,\n",
       "       0., 0., 0., 1., 1., 0., 1., 0., 0., 0., 1., 0., 0., 0., 1., 0., 0.,\n",
       "       0., 1., 0., 0., 0., 1., 0., 1., 1., 0., 0., 1., 0., 0., 0., 0., 0.,\n",
       "       0., 0., 1., 1., 0., 0., 1., 1., 0., 0., 0., 0., 0., 0., 1., 0., 0.,\n",
       "       1., 1., 1., 1., 0., 0., 1., 0., 0., 1., 0., 1., 0., 0., 0., 0., 0.,\n",
       "       0., 0., 0., 0., 1., 1., 0., 0., 0., 0., 0., 1., 0., 0., 1., 0., 1.,\n",
       "       1., 1., 1., 0., 0., 0., 0., 1., 1., 0., 1., 0., 1., 0., 0., 0., 1.,\n",
       "       0., 0., 0., 0., 1., 0., 1., 1., 0., 0., 1., 1., 1., 0., 1., 0., 1.,\n",
       "       1., 0., 0., 0., 0., 0., 0., 0., 1., 1., 1., 1., 1., 0., 0., 0., 1.,\n",
       "       1., 0., 1., 0., 1., 1., 1., 0., 1., 0., 0., 0., 1., 1., 0., 1., 1.,\n",
       "       0., 0., 0., 1., 0., 1., 0., 0., 0., 1., 0., 1., 1., 1., 0., 1., 0.,\n",
       "       0., 0., 0., 0., 0., 0., 1., 0., 0., 1., 0., 0., 0., 1., 0., 0., 1.,\n",
       "       0., 1., 0., 0., 0., 0., 1., 0., 0., 0., 0., 1., 0., 0., 1., 0., 0.,\n",
       "       1., 1., 1., 0., 0., 0., 1., 1., 0., 1., 1., 0., 1., 0., 1., 0., 0.,\n",
       "       0., 0., 1., 1., 1., 1., 0., 1., 1., 1., 0., 0., 0., 0., 0., 1., 0.,\n",
       "       0., 0., 0., 0., 0., 0., 1., 0., 1., 0., 0., 0., 0., 0., 1., 1., 0.,\n",
       "       1., 0., 0., 1., 0., 1., 0., 1., 0., 0., 0., 0., 1., 0., 0., 0., 0.,\n",
       "       0., 1., 1., 1., 1., 1., 0., 1., 1., 0., 1., 0., 1., 1., 0., 1., 0.,\n",
       "       1., 0., 1., 0., 0., 0., 0., 0., 0., 0., 0., 1., 0., 0., 0., 0., 1.,\n",
       "       0., 0., 0., 0., 1., 0., 0., 0., 0., 1., 0., 1., 0., 0., 1., 1., 0.,\n",
       "       0., 0., 0., 0., 1., 0., 0., 1., 0., 0., 0., 0., 0., 1., 1., 0., 0.,\n",
       "       0., 0., 0., 1., 1., 0., 1., 1., 0., 1., 1., 0., 1., 0., 0., 1., 0.,\n",
       "       1., 0., 0., 0., 0., 0., 1., 0., 0., 0., 1., 0., 0., 1., 0., 0., 0.,\n",
       "       1., 0., 1., 1., 1., 1., 1., 0., 0., 0., 1., 1., 0., 1., 0., 1., 0.,\n",
       "       0., 0., 0., 1., 0., 0., 0., 0., 1., 0., 0., 1., 0., 0., 0., 0., 1.,\n",
       "       0., 0., 0., 1., 1., 0., 0., 1., 0., 0., 1., 1., 0., 0., 0., 1., 1.,\n",
       "       0., 0., 0., 0., 0., 0., 1., 1., 1., 1., 0., 1., 0., 1., 0., 0., 1.,\n",
       "       1., 0., 0., 0., 0., 1., 0., 0., 1., 1., 1., 0., 1., 1., 0., 0., 0.,\n",
       "       0., 0., 1., 0., 0., 1., 1., 1., 0., 0., 0., 0., 1., 1., 1., 1., 0.,\n",
       "       0., 0., 0., 0., 0., 0., 1., 1., 0., 1., 0., 0., 1., 1., 1., 0., 0.,\n",
       "       1., 1., 0., 0., 0., 0., 1., 1., 0., 1., 0., 0., 1., 0., 0., 0., 0.,\n",
       "       0., 1., 1., 0., 1., 0., 0., 1., 0., 0., 0., 1., 1., 1., 1., 1., 0.,\n",
       "       0., 1., 0., 1., 0., 1., 0., 1., 1., 1., 0., 1., 0., 0., 0., 0., 0.,\n",
       "       0., 0., 0., 1., 1., 0., 0., 0., 0., 0., 0., 0., 1., 0., 1., 0., 0.,\n",
       "       0., 1., 0., 1., 0., 1., 1., 1., 0., 1., 0., 0., 0., 1., 0., 1., 1.,\n",
       "       0., 0., 0., 0., 0., 0., 0., 0., 1., 1., 1., 0., 0., 1., 0., 1., 0.,\n",
       "       0., 0., 0., 0., 0., 0., 0., 0., 0., 0., 0., 0., 0., 0., 1., 0., 0.,\n",
       "       0., 1., 1., 0., 0., 0., 0., 0., 1., 0., 1., 0., 0., 1., 0.],\n",
       "      dtype=float32)"
      ]
     },
     "execution_count": 75,
     "metadata": {},
     "output_type": "execute_result"
    }
   ],
   "source": [
    "y_train"
   ]
  },
  {
   "attachments": {},
   "cell_type": "markdown",
   "metadata": {},
   "source": [
    "***\n",
    "\n",
    "Now we will define our neuronal network. Therefore we will use the `Sequential` class from the `keras.models` package. This class will create a new neuronal network. The `Sequential` class will take a list of layers as parameter."
   ]
  },
  {
   "cell_type": "code",
   "execution_count": 83,
   "metadata": {},
   "outputs": [],
   "source": [
    "model = Sequential()"
   ]
  },
  {
   "attachments": {},
   "cell_type": "markdown",
   "metadata": {},
   "source": [
    "After defining our model we will add the layers to our model. Therefore we will use the `add` function. The first layer will be a `Dense` layer with the `sigmoid` activation function. The `Dense` layer will take the number of neurons as first parameter. The second parameter is the activation function. The `input_shape` parameter defines the input shape of the first layer. The input shape is the number of features. In our case the input shape is 4, because we have 4 features.\n",
    "\n",
    "The last layer will only have one neuron, because we only want to predict one value (survived or not). The activation function will be the `sigmoid` function.\n",
    "\n",
    "After defining our layers we will set the learning rate of the optimizer and compile the model. Therefore we will use the `compile` function."
   ]
  },
  {
   "cell_type": "code",
   "execution_count": 84,
   "metadata": {},
   "outputs": [
    {
     "name": "stdout",
     "output_type": "stream",
     "text": [
      "Model: \"sequential_5\"\n",
      "_________________________________________________________________\n",
      " Layer (type)                Output Shape              Param #   \n",
      "=================================================================\n",
      " Layer_1 (Dense)             (None, 125)               625       \n",
      "                                                                 \n",
      " Layer_2 (Dense)             (None, 500)               63000     \n",
      "                                                                 \n",
      " Layer_3 (Dense)             (None, 750)               375750    \n",
      "                                                                 \n",
      " Layer_4 (Dense)             (None, 1)                 751       \n",
      "                                                                 \n",
      "=================================================================\n",
      "Total params: 440,126\n",
      "Trainable params: 440,126\n",
      "Non-trainable params: 0\n",
      "_________________________________________________________________\n"
     ]
    }
   ],
   "source": [
    "model.add(Dense(125, activation='sigmoid', batch_input_shape=(None, 4), name=\"Layer_1\")) #We have 4 input features\n",
    "model.add(Dense(500, activation='sigmoid', name=\"Layer_2\"))\n",
    "model.add(Dense(750, activation='sigmoid', name=\"Layer_3\"))\n",
    "model.add(Dense(1, activation='sigmoid', name=\"Layer_4\"))\n",
    "\n",
    "# Ask lecturer why this is not possible???\n",
    "#model.add(Dense(1, activation=\"softmax\", name=\"Layer_5\"))\n",
    "\n",
    "opt = tf.keras.optimizers.Adam(learning_rate=1e-3)\n",
    "\n",
    "model.compile(loss=tf.keras.losses.BinaryCrossentropy(),\n",
    "              optimizer=opt,\n",
    "              metrics=['accuracy'])\n",
    "\n",
    "model.summary()"
   ]
  },
  {
   "attachments": {},
   "cell_type": "markdown",
   "metadata": {},
   "source": [
    "Finally we will train our model. Therefore we will use the `fit` function. The `fit` function will take the training data as first parameter, the labels as second parameter, the validation data as third parameter and the number of epochs as fourth parameter. The `fit` function will return a history object. This object contains the loss and accuracy of the training and validation data for each epoch."
   ]
  },
  {
   "cell_type": "code",
   "execution_count": 85,
   "metadata": {},
   "outputs": [
    {
     "name": "stdout",
     "output_type": "stream",
     "text": [
      "Epoch 1/50\n",
      "23/23 [==============================] - 1s 13ms/step - loss: 0.8239 - accuracy: 0.5253 - val_loss: 0.6769 - val_accuracy: 0.5866\n",
      "Epoch 2/50\n",
      "23/23 [==============================] - 0s 9ms/step - loss: 0.6705 - accuracy: 0.6236 - val_loss: 0.6982 - val_accuracy: 0.5866\n",
      "Epoch 3/50\n",
      "23/23 [==============================] - 0s 8ms/step - loss: 0.6927 - accuracy: 0.5787 - val_loss: 0.6682 - val_accuracy: 0.6089\n",
      "Epoch 4/50\n",
      "23/23 [==============================] - 0s 7ms/step - loss: 0.6607 - accuracy: 0.6278 - val_loss: 0.6672 - val_accuracy: 0.6201\n",
      "Epoch 5/50\n",
      "23/23 [==============================] - 0s 7ms/step - loss: 0.6706 - accuracy: 0.6067 - val_loss: 0.7777 - val_accuracy: 0.5866\n",
      "Epoch 6/50\n",
      "23/23 [==============================] - 0s 8ms/step - loss: 0.6655 - accuracy: 0.6320 - val_loss: 0.6676 - val_accuracy: 0.7654\n",
      "Epoch 7/50\n",
      "23/23 [==============================] - 0s 8ms/step - loss: 0.6529 - accuracy: 0.6250 - val_loss: 0.6623 - val_accuracy: 0.6145\n",
      "Epoch 8/50\n",
      "23/23 [==============================] - 0s 9ms/step - loss: 0.6371 - accuracy: 0.6503 - val_loss: 0.6190 - val_accuracy: 0.7877\n",
      "Epoch 9/50\n",
      "23/23 [==============================] - 0s 9ms/step - loss: 0.5936 - accuracy: 0.7177 - val_loss: 0.5525 - val_accuracy: 0.7989\n",
      "Epoch 10/50\n",
      "23/23 [==============================] - 0s 8ms/step - loss: 0.5596 - accuracy: 0.7444 - val_loss: 0.5007 - val_accuracy: 0.7877\n",
      "Epoch 11/50\n",
      "23/23 [==============================] - 0s 9ms/step - loss: 0.5200 - accuracy: 0.7697 - val_loss: 0.5104 - val_accuracy: 0.7709\n",
      "Epoch 12/50\n",
      "23/23 [==============================] - 0s 8ms/step - loss: 0.4808 - accuracy: 0.7837 - val_loss: 0.4629 - val_accuracy: 0.7877\n",
      "Epoch 13/50\n",
      "23/23 [==============================] - 0s 8ms/step - loss: 0.4687 - accuracy: 0.7992 - val_loss: 0.4691 - val_accuracy: 0.7821\n",
      "Epoch 14/50\n",
      "23/23 [==============================] - 0s 9ms/step - loss: 0.4669 - accuracy: 0.7992 - val_loss: 0.4564 - val_accuracy: 0.7877\n",
      "Epoch 15/50\n",
      "23/23 [==============================] - 0s 9ms/step - loss: 0.4736 - accuracy: 0.8006 - val_loss: 0.4453 - val_accuracy: 0.7877\n",
      "Epoch 16/50\n",
      "23/23 [==============================] - 0s 9ms/step - loss: 0.4594 - accuracy: 0.7978 - val_loss: 0.4787 - val_accuracy: 0.7765\n",
      "Epoch 17/50\n",
      "23/23 [==============================] - 0s 11ms/step - loss: 0.4734 - accuracy: 0.7963 - val_loss: 0.4542 - val_accuracy: 0.7933\n",
      "Epoch 18/50\n",
      "23/23 [==============================] - 0s 8ms/step - loss: 0.4771 - accuracy: 0.8034 - val_loss: 0.4739 - val_accuracy: 0.7765\n",
      "Epoch 19/50\n",
      "23/23 [==============================] - 0s 7ms/step - loss: 0.5136 - accuracy: 0.7739 - val_loss: 0.4473 - val_accuracy: 0.7877\n",
      "Epoch 20/50\n",
      "23/23 [==============================] - 0s 7ms/step - loss: 0.4575 - accuracy: 0.8006 - val_loss: 0.4414 - val_accuracy: 0.7877\n",
      "Epoch 21/50\n",
      "23/23 [==============================] - 0s 7ms/step - loss: 0.4595 - accuracy: 0.7992 - val_loss: 0.4408 - val_accuracy: 0.7877\n",
      "Epoch 22/50\n",
      "23/23 [==============================] - 0s 8ms/step - loss: 0.4583 - accuracy: 0.7935 - val_loss: 0.4415 - val_accuracy: 0.7877\n",
      "Epoch 23/50\n",
      "23/23 [==============================] - 0s 8ms/step - loss: 0.4557 - accuracy: 0.8062 - val_loss: 0.4416 - val_accuracy: 0.7933\n",
      "Epoch 24/50\n",
      "23/23 [==============================] - 0s 8ms/step - loss: 0.4576 - accuracy: 0.8034 - val_loss: 0.4364 - val_accuracy: 0.7877\n",
      "Epoch 25/50\n",
      "23/23 [==============================] - 0s 7ms/step - loss: 0.4542 - accuracy: 0.7978 - val_loss: 0.4376 - val_accuracy: 0.7877\n",
      "Epoch 26/50\n",
      "23/23 [==============================] - 0s 8ms/step - loss: 0.4575 - accuracy: 0.7963 - val_loss: 0.4362 - val_accuracy: 0.7877\n",
      "Epoch 27/50\n",
      "23/23 [==============================] - 0s 8ms/step - loss: 0.4499 - accuracy: 0.8020 - val_loss: 0.4412 - val_accuracy: 0.7933\n",
      "Epoch 28/50\n",
      "23/23 [==============================] - 0s 8ms/step - loss: 0.4552 - accuracy: 0.7907 - val_loss: 0.4362 - val_accuracy: 0.7877\n",
      "Epoch 29/50\n",
      "23/23 [==============================] - 0s 7ms/step - loss: 0.4608 - accuracy: 0.8020 - val_loss: 0.4409 - val_accuracy: 0.7933\n",
      "Epoch 30/50\n",
      "23/23 [==============================] - 0s 8ms/step - loss: 0.4659 - accuracy: 0.7921 - val_loss: 0.4378 - val_accuracy: 0.7933\n",
      "Epoch 31/50\n",
      "23/23 [==============================] - 0s 8ms/step - loss: 0.4506 - accuracy: 0.7935 - val_loss: 0.4546 - val_accuracy: 0.7877\n",
      "Epoch 32/50\n",
      "23/23 [==============================] - 0s 7ms/step - loss: 0.4481 - accuracy: 0.8104 - val_loss: 0.4355 - val_accuracy: 0.7877\n",
      "Epoch 33/50\n",
      "23/23 [==============================] - 0s 7ms/step - loss: 0.4523 - accuracy: 0.7921 - val_loss: 0.4399 - val_accuracy: 0.7709\n",
      "Epoch 34/50\n",
      "23/23 [==============================] - 0s 8ms/step - loss: 0.4633 - accuracy: 0.7949 - val_loss: 0.4490 - val_accuracy: 0.8101\n",
      "Epoch 35/50\n",
      "23/23 [==============================] - 0s 9ms/step - loss: 0.4601 - accuracy: 0.7978 - val_loss: 0.4476 - val_accuracy: 0.7877\n",
      "Epoch 36/50\n",
      "23/23 [==============================] - 0s 8ms/step - loss: 0.4488 - accuracy: 0.8006 - val_loss: 0.4513 - val_accuracy: 0.7877\n",
      "Epoch 37/50\n",
      "23/23 [==============================] - 0s 8ms/step - loss: 0.4510 - accuracy: 0.8132 - val_loss: 0.4493 - val_accuracy: 0.8101\n",
      "Epoch 38/50\n",
      "23/23 [==============================] - 0s 8ms/step - loss: 0.4497 - accuracy: 0.7907 - val_loss: 0.4325 - val_accuracy: 0.7877\n",
      "Epoch 39/50\n",
      "23/23 [==============================] - 0s 9ms/step - loss: 0.4459 - accuracy: 0.7978 - val_loss: 0.4331 - val_accuracy: 0.7765\n",
      "Epoch 40/50\n",
      "23/23 [==============================] - 0s 8ms/step - loss: 0.4420 - accuracy: 0.8006 - val_loss: 0.4674 - val_accuracy: 0.7765\n",
      "Epoch 41/50\n",
      "23/23 [==============================] - 0s 9ms/step - loss: 0.4547 - accuracy: 0.8006 - val_loss: 0.4320 - val_accuracy: 0.7933\n",
      "Epoch 42/50\n",
      "23/23 [==============================] - 0s 7ms/step - loss: 0.4605 - accuracy: 0.7992 - val_loss: 0.4551 - val_accuracy: 0.7765\n",
      "Epoch 43/50\n",
      "23/23 [==============================] - 0s 8ms/step - loss: 0.4508 - accuracy: 0.7907 - val_loss: 0.4338 - val_accuracy: 0.7989\n",
      "Epoch 44/50\n",
      "23/23 [==============================] - 0s 8ms/step - loss: 0.4452 - accuracy: 0.7978 - val_loss: 0.4322 - val_accuracy: 0.7821\n",
      "Epoch 45/50\n",
      "23/23 [==============================] - 0s 9ms/step - loss: 0.4417 - accuracy: 0.7893 - val_loss: 0.4678 - val_accuracy: 0.7709\n",
      "Epoch 46/50\n",
      "23/23 [==============================] - 0s 8ms/step - loss: 0.4509 - accuracy: 0.8076 - val_loss: 0.4373 - val_accuracy: 0.7989\n",
      "Epoch 47/50\n",
      "23/23 [==============================] - 0s 8ms/step - loss: 0.4469 - accuracy: 0.7893 - val_loss: 0.4258 - val_accuracy: 0.7821\n",
      "Epoch 48/50\n",
      "23/23 [==============================] - 0s 8ms/step - loss: 0.4499 - accuracy: 0.7949 - val_loss: 0.4310 - val_accuracy: 0.7933\n",
      "Epoch 49/50\n",
      "23/23 [==============================] - 0s 8ms/step - loss: 0.4396 - accuracy: 0.8006 - val_loss: 0.4410 - val_accuracy: 0.7989\n",
      "Epoch 50/50\n",
      "23/23 [==============================] - 0s 8ms/step - loss: 0.4457 - accuracy: 0.7851 - val_loss: 0.4274 - val_accuracy: 0.7933\n"
     ]
    }
   ],
   "source": [
    "#history = model.fit(x, y, epochs=100, batch_size=32, validation_split=0.2, verbose=0)\n",
    "history = model.fit(X_train, y_train,\n",
    "                    validation_data=(X_val, y_val),\n",
    "                    epochs=50,\n",
    "                    batch_size=32)"
   ]
  },
  {
   "attachments": {},
   "cell_type": "markdown",
   "metadata": {},
   "source": [
    "The accuracy can be shwon as simple values..."
   ]
  },
  {
   "cell_type": "code",
   "execution_count": 86,
   "metadata": {},
   "outputs": [
    {
     "name": "stdout",
     "output_type": "stream",
     "text": [
      "6/6 [==============================] - 0s 2ms/step - loss: 0.4274 - accuracy: 0.7933\n"
     ]
    },
    {
     "data": {
      "text/plain": [
       "[0.42738422751426697, 0.7932960987091064]"
      ]
     },
     "execution_count": 86,
     "metadata": {},
     "output_type": "execute_result"
    }
   ],
   "source": [
    "model.evaluate(X_val, y_val)"
   ]
  },
  {
   "attachments": {},
   "cell_type": "markdown",
   "metadata": {},
   "source": [
    "... or as a nice plot using the `show_acc` function."
   ]
  },
  {
   "cell_type": "code",
   "execution_count": 87,
   "metadata": {},
   "outputs": [
    {
     "data": {
      "image/png": "[encoded data removed]",
      "text/plain": [
       "<Figure size 640x480 with 4 Axes>"
      ]
     },
     "metadata": {},
     "output_type": "display_data"
    }
   ],
   "source": [
    "show_acc.plot(history)"
   ]
  },
  {
   "attachments": {},
   "cell_type": "markdown",
   "metadata": {},
   "source": [
    "## Tests"
   ]
  },
  {
   "attachments": {},
   "cell_type": "markdown",
   "metadata": {},
   "source": [
    "Now we are ready to predict some values using the given test data set and the trained model."
   ]
  },
  {
   "cell_type": "code",
   "execution_count": 88,
   "metadata": {},
   "outputs": [],
   "source": [
    "test_data = pd.read_csv(\"data/test.csv\")"
   ]
  },
  {
   "cell_type": "code",
   "execution_count": 89,
   "metadata": {},
   "outputs": [
    {
     "name": "stdout",
     "output_type": "stream",
     "text": [
      "<class 'pandas.core.frame.DataFrame'>\n",
      "RangeIndex: 418 entries, 0 to 417\n",
      "Data columns (total 11 columns):\n",
      " #   Column       Non-Null Count  Dtype  \n",
      "---  ------       --------------  -----  \n",
      " 0   PassengerId  418 non-null    int64  \n",
      " 1   Pclass       418 non-null    int64  \n",
      " 2   Name         418 non-null    object \n",
      " 3   Sex          418 non-null    object \n",
      " 4   Age          332 non-null    float64\n",
      " 5   SibSp        418 non-null    int64  \n",
      " 6   Parch        418 non-null    int64  \n",
      " 7   Ticket       418 non-null    object \n",
      " 8   Fare         417 non-null    float64\n",
      " 9   Cabin        91 non-null     object \n",
      " 10  Embarked     418 non-null    object \n",
      "dtypes: float64(2), int64(4), object(5)\n",
      "memory usage: 36.0+ KB\n"
     ]
    }
   ],
   "source": [
    "test_data.info()"
   ]
  },
  {
   "attachments": {},
   "cell_type": "markdown",
   "metadata": {},
   "source": [
    "The data preparation is the same as before. We will convert the data into a numpy array and split the data into features and labels.\n",
    "\n",
    "Notice that the \"Survived\" column is missing in the test data set. This is because we want to predict the \"Survived\" column now."
   ]
  },
  {
   "cell_type": "code",
   "execution_count": 93,
   "metadata": {},
   "outputs": [
    {
     "name": "stdout",
     "output_type": "stream",
     "text": [
      "<class 'pandas.core.frame.DataFrame'>\n",
      "RangeIndex: 418 entries, 0 to 417\n",
      "Data columns (total 4 columns):\n",
      " #   Column      Non-Null Count  Dtype  \n",
      "---  ------      --------------  -----  \n",
      " 0   Pclass      418 non-null    int64  \n",
      " 1   Age         418 non-null    float64\n",
      " 2   Sex_female  418 non-null    bool   \n",
      " 3   Sex_male    418 non-null    bool   \n",
      "dtypes: bool(2), float64(1), int64(1)\n",
      "memory usage: 7.5 KB\n"
     ]
    }
   ],
   "source": [
    "# Read data again in case you have already manipulated it\n",
    "test_data = pd.read_csv(\"data/test.csv\")\n",
    "\n",
    "# Fill missing age in train data\n",
    "test_data[\"Age\"].fillna(train_data[\"Age\"].median(skipna=True), inplace=True) \n",
    "\n",
    "# Define features we want to use (again)\n",
    "features = ['Pclass', 'Sex', 'Age']\n",
    "\n",
    "##test_data.drop(['Name', 'Ticket', 'PassengerId', 'Cabin', 'Sex', 'Age', 'SibSp', 'Parch', 'Fare', 'Embarked'], axis=1, inplace=True)\n",
    "\n",
    "test_data = pd.get_dummies(test_data[features])\n",
    "\n",
    "test_data.info()"
   ]
  },
  {
   "attachments": {},
   "cell_type": "markdown",
   "metadata": {},
   "source": [
    "After converting the data into a numpy array we will predict the values using the `predict` function from the model. The `predict` function will take the features as parameter and will return the predicted values."
   ]
  },
  {
   "cell_type": "code",
   "execution_count": 94,
   "metadata": {},
   "outputs": [
    {
     "name": "stdout",
     "output_type": "stream",
     "text": [
      "14/14 [==============================] - 0s 2ms/step\n"
     ]
    },
    {
     "data": {
      "text/plain": [
       "array([[0.08883306],\n",
       "       [0.55595535],\n",
       "       [0.12440941],\n",
       "       [0.09489923],\n",
       "       [0.56431496],\n",
       "       [0.11266621],\n",
       "       [0.59685266],\n",
       "       [0.19275783],\n",
       "       [0.52796483],\n",
       "       [0.09894287],\n",
       "       [0.09418663],\n",
       "       [0.32027334],\n",
       "       [0.95772064],\n",
       "       [0.12296654],\n",
       "       [0.94953614],\n",
       "       [0.8427668 ],\n",
       "       [0.17434238],\n",
       "       [0.09894287],\n",
       "       [0.5908421 ],\n",
       "       [0.5641894 ],\n",
       "       [0.28660688],\n",
       "       [0.16552605],\n",
       "       [0.95960426],\n",
       "       [0.4274209 ],\n",
       "       [0.9485897 ],\n",
       "       [0.07474607],\n",
       "       [0.9569259 ],\n",
       "       [0.09786719],\n",
       "       [0.34060708],\n",
       "       [0.09418663],\n",
       "       [0.1440873 ],\n",
       "       [0.19675063],\n",
       "       [0.59705055],\n",
       "       [0.5935823 ],\n",
       "       [0.38709947],\n",
       "       [0.10139019],\n",
       "       [0.5935823 ],\n",
       "       [0.5563297 ],\n",
       "       [0.09624173],\n",
       "       [0.09418663],\n",
       "       [0.08467963],\n",
       "       [0.39551902],\n",
       "       [0.08280943],\n",
       "       [0.84992564],\n",
       "       [0.95133775],\n",
       "       [0.09624173],\n",
       "       [0.32425997],\n",
       "       [0.09418663],\n",
       "       [0.9351049 ],\n",
       "       [0.59282994],\n",
       "       [0.41273978],\n",
       "       [0.19078144],\n",
       "       [0.82816005],\n",
       "       [0.95960426],\n",
       "       [0.18879543],\n",
       "       [0.14780746],\n",
       "       [0.08838152],\n",
       "       [0.09624173],\n",
       "       [0.09418663],\n",
       "       [0.95765555],\n",
       "       [0.10370369],\n",
       "       [0.18064593],\n",
       "       [0.10206295],\n",
       "       [0.5643149 ],\n",
       "       [0.51286936],\n",
       "       [0.84915364],\n",
       "       [0.52796483],\n",
       "       [0.31633213],\n",
       "       [0.38288158],\n",
       "       [0.9351049 ],\n",
       "       [0.5776126 ],\n",
       "       [0.09894287],\n",
       "       [0.5955677 ],\n",
       "       [0.39341375],\n",
       "       [0.95813334],\n",
       "       [0.37653506],\n",
       "       [0.09418663],\n",
       "       [0.9411811 ],\n",
       "       [0.18476515],\n",
       "       [0.5776126 ],\n",
       "       [0.26339504],\n",
       "       [0.2483169 ],\n",
       "       [0.308593  ],\n",
       "       [0.09418663],\n",
       "       [0.18879543],\n",
       "       [0.09418663],\n",
       "       [0.5908421 ],\n",
       "       [0.52796483],\n",
       "       [0.5935823 ],\n",
       "       [0.7618746 ],\n",
       "       [0.56431496],\n",
       "       [0.09418663],\n",
       "       [0.9594701 ],\n",
       "       [0.09418663],\n",
       "       [0.4083128 ],\n",
       "       [0.09624173],\n",
       "       [0.9114286 ],\n",
       "       [0.09344203],\n",
       "       [0.54752696],\n",
       "       [0.09016233],\n",
       "       [0.95301026],\n",
       "       [0.19078144],\n",
       "       [0.09418663],\n",
       "       [0.09558237],\n",
       "       [0.5072368 ],\n",
       "       [0.09418663],\n",
       "       [0.09894287],\n",
       "       [0.09418663],\n",
       "       [0.09418663],\n",
       "       [0.21082023],\n",
       "       [0.16171475],\n",
       "       [0.5935823 ],\n",
       "       [0.95765555],\n",
       "       [0.53304577],\n",
       "       [0.9311573 ],\n",
       "       [0.1020629 ],\n",
       "       [0.09418663],\n",
       "       [0.75432104],\n",
       "       [0.36166826],\n",
       "       [0.84971344],\n",
       "       [0.7815746 ],\n",
       "       [0.09418663],\n",
       "       [0.95813334],\n",
       "       [0.09418663],\n",
       "       [0.09418663],\n",
       "       [0.51760286],\n",
       "       [0.09820922],\n",
       "       [0.59358233],\n",
       "       [0.1596546 ],\n",
       "       [0.09688738],\n",
       "       [0.09102263],\n",
       "       [0.29372445],\n",
       "       [0.5935823 ],\n",
       "       [0.09418663],\n",
       "       [0.08095319],\n",
       "       [0.09688738],\n",
       "       [0.09524425],\n",
       "       [0.19275783],\n",
       "       [0.5714184 ],\n",
       "       [0.08374384],\n",
       "       [0.4730226 ],\n",
       "       [0.95891505],\n",
       "       [0.26653302],\n",
       "       [0.18879543],\n",
       "       [0.33646634],\n",
       "       [0.09185802],\n",
       "       [0.39551902],\n",
       "       [0.09820922],\n",
       "       [0.39551902],\n",
       "       [0.18476515],\n",
       "       [0.95772064],\n",
       "       [0.09418663],\n",
       "       [0.06666365],\n",
       "       [0.59282994],\n",
       "       [0.11793371],\n",
       "       [0.09688738],\n",
       "       [0.9596371 ],\n",
       "       [0.5714184 ],\n",
       "       [0.33646625],\n",
       "       [0.5872959 ],\n",
       "       [0.5935823 ],\n",
       "       [0.22138798],\n",
       "       [0.84685975],\n",
       "       [0.09418663],\n",
       "       [0.16171475],\n",
       "       [0.5872959 ],\n",
       "       [0.31243816],\n",
       "       [0.1020629 ],\n",
       "       [0.95960426],\n",
       "       [0.56431496],\n",
       "       [0.09418663],\n",
       "       [0.09489923],\n",
       "       [0.0975353 ],\n",
       "       [0.09418663],\n",
       "       [0.08374384],\n",
       "       [0.7985164 ],\n",
       "       [0.82816005],\n",
       "       [0.290139  ],\n",
       "       [0.84541994],\n",
       "       [0.92979133],\n",
       "       [0.18476515],\n",
       "       [0.3574243 ],\n",
       "       [0.9520434 ],\n",
       "       [0.09418663],\n",
       "       [0.9594701 ],\n",
       "       [0.1637932 ],\n",
       "       [0.83267057],\n",
       "       [0.10370369],\n",
       "       [0.5935823 ],\n",
       "       [0.1637932 ],\n",
       "       [0.1764548 ],\n",
       "       [0.39551902],\n",
       "       [0.12952517],\n",
       "       [0.12588108],\n",
       "       [0.3837803 ],\n",
       "       [0.09016233],\n",
       "       [0.76881075],\n",
       "       [0.52796483],\n",
       "       [0.19882523],\n",
       "       [0.5935823 ],\n",
       "       [0.5935823 ],\n",
       "       [0.6628499 ],\n",
       "       [0.31633213],\n",
       "       [0.7846557 ],\n",
       "       [0.19473977],\n",
       "       [0.39551902],\n",
       "       [0.5946498 ],\n",
       "       [0.19675061],\n",
       "       [0.95891505],\n",
       "       [0.09624173],\n",
       "       [0.09102263],\n",
       "       [0.09418663],\n",
       "       [0.21715249],\n",
       "       [0.7802547 ],\n",
       "       [0.588153  ],\n",
       "       [0.33646634],\n",
       "       [0.5935823 ],\n",
       "       [0.2797033 ],\n",
       "       [0.94660974],\n",
       "       [0.09418663],\n",
       "       [0.84992564],\n",
       "       [0.09894287],\n",
       "       [0.8366002 ],\n",
       "       [0.09894287],\n",
       "       [0.9434323 ],\n",
       "       [0.5935823 ],\n",
       "       [0.0975353 ],\n",
       "       [0.5935823 ],\n",
       "       [0.08327631],\n",
       "       [0.1722249 ],\n",
       "       [0.23868836],\n",
       "       [0.95596695],\n",
       "       [0.09894287],\n",
       "       [0.09418663],\n",
       "       [0.3489739 ],\n",
       "       [0.09978325],\n",
       "       [0.2572001 ],\n",
       "       [0.09978325],\n",
       "       [0.8174674 ],\n",
       "       [0.9485897 ],\n",
       "       [0.9411811 ],\n",
       "       [0.82676   ],\n",
       "       [0.32425997],\n",
       "       [0.09418663],\n",
       "       [0.09418663],\n",
       "       [0.34060708],\n",
       "       [0.8366001 ],\n",
       "       [0.1596546 ],\n",
       "       [0.84971344],\n",
       "       [0.5935823 ],\n",
       "       [0.9118144 ],\n",
       "       [0.09978325],\n",
       "       [0.39974046],\n",
       "       [0.09688738],\n",
       "       [0.09059534],\n",
       "       [0.0941866 ],\n",
       "       [0.09418663],\n",
       "       [0.09418663],\n",
       "       [0.8230792 ],\n",
       "       [0.09894287],\n",
       "       [0.08700767],\n",
       "       [0.09894287],\n",
       "       [0.84971344],\n",
       "       [0.75432104],\n",
       "       [0.18476515],\n",
       "       [0.09418663],\n",
       "       [0.39551902],\n",
       "       [0.09418663],\n",
       "       [0.5935823 ],\n",
       "       [0.10370369],\n",
       "       [0.32027334],\n",
       "       [0.09418663],\n",
       "       [0.9592251 ],\n",
       "       [0.5935823 ],\n",
       "       [0.09418663],\n",
       "       [0.82816005],\n",
       "       [0.18879543],\n",
       "       [0.1637932 ],\n",
       "       [0.18476515],\n",
       "       [0.20101358],\n",
       "       [0.5714184 ],\n",
       "       [0.63318294],\n",
       "       [0.5935823 ],\n",
       "       [0.478598  ],\n",
       "       [0.7036297 ],\n",
       "       [0.08746834],\n",
       "       [0.0941866 ],\n",
       "       [0.41273978],\n",
       "       [0.09418663],\n",
       "       [0.09418663],\n",
       "       [0.39551902],\n",
       "       [0.59685266],\n",
       "       [0.09418663],\n",
       "       [0.29372445],\n",
       "       [0.08746834],\n",
       "       [0.09558237],\n",
       "       [0.9102355 ],\n",
       "       [0.09418663],\n",
       "       [0.38709947],\n",
       "       [0.09344203],\n",
       "       [0.09102263],\n",
       "       [0.18879543],\n",
       "       [0.15761569],\n",
       "       [0.09688738],\n",
       "       [0.5935823 ],\n",
       "       [0.92979133],\n",
       "       [0.38709947],\n",
       "       [0.627342  ],\n",
       "       [0.28660688],\n",
       "       [0.5641894 ],\n",
       "       [0.1020629 ],\n",
       "       [0.09820922],\n",
       "       [0.09418663],\n",
       "       [0.59065187],\n",
       "       [0.9411811 ],\n",
       "       [0.51760286],\n",
       "       [0.2797033 ],\n",
       "       [0.2090893 ],\n",
       "       [0.09489923],\n",
       "       [0.20101355],\n",
       "       [0.09558237],\n",
       "       [0.09624173],\n",
       "       [0.19275783],\n",
       "       [0.3744146 ],\n",
       "       [0.95592034],\n",
       "       [0.0975353 ],\n",
       "       [0.7815746 ],\n",
       "       [0.32027334],\n",
       "       [0.18679133],\n",
       "       [0.20338492],\n",
       "       [0.81860846],\n",
       "       [0.3489739 ],\n",
       "       [0.09418663],\n",
       "       [0.53801674],\n",
       "       [0.09489923],\n",
       "       [0.38709947],\n",
       "       [0.18064593],\n",
       "       [0.08467963],\n",
       "       [0.19473977],\n",
       "       [0.09418663],\n",
       "       [0.2127204 ],\n",
       "       [0.09102263],\n",
       "       [0.09418663],\n",
       "       [0.9376113 ],\n",
       "       [0.09418663],\n",
       "       [0.5072368 ],\n",
       "       [0.19275783],\n",
       "       [0.588153  ],\n",
       "       [0.19675061],\n",
       "       [0.8498202 ],\n",
       "       [0.95133775],\n",
       "       [0.1947398 ],\n",
       "       [0.2127204 ],\n",
       "       [0.14593138],\n",
       "       [0.7940745 ],\n",
       "       [0.30479804],\n",
       "       [0.93637073],\n",
       "       [0.09418663],\n",
       "       [0.09418663],\n",
       "       [0.59685266],\n",
       "       [0.11057089],\n",
       "       [0.8427668 ],\n",
       "       [0.8498202 ],\n",
       "       [0.09489923],\n",
       "       [0.95885915],\n",
       "       [0.5935823 ],\n",
       "       [0.09418663],\n",
       "       [0.56431496],\n",
       "       [0.95133775],\n",
       "       [0.18679133],\n",
       "       [0.20338492],\n",
       "       [0.95943224],\n",
       "       [0.308593  ],\n",
       "       [0.15560006],\n",
       "       [0.94231975],\n",
       "       [0.95133775],\n",
       "       [0.56431496],\n",
       "       [0.20338492],\n",
       "       [0.28660688],\n",
       "       [0.31700036],\n",
       "       [0.09418663],\n",
       "       [0.09558237],\n",
       "       [0.59358233],\n",
       "       [0.53801674],\n",
       "       [0.18879543],\n",
       "       [0.8427668 ],\n",
       "       [0.09688738],\n",
       "       [0.13206512],\n",
       "       [0.09894287],\n",
       "       [0.26339504],\n",
       "       [0.41733822],\n",
       "       [0.94557774],\n",
       "       [0.11793371],\n",
       "       [0.14971182],\n",
       "       [0.09344203],\n",
       "       [0.9520434 ],\n",
       "       [0.09688738],\n",
       "       [0.9485897 ],\n",
       "       [0.09820922],\n",
       "       [0.09185802],\n",
       "       [0.95957714],\n",
       "       [0.16799298],\n",
       "       [0.9569259 ],\n",
       "       [0.4558145 ],\n",
       "       [0.33235928],\n",
       "       [0.20603426],\n",
       "       [0.19882523],\n",
       "       [0.30479804],\n",
       "       [0.5935823 ],\n",
       "       [0.6531982 ],\n",
       "       [0.5935823 ],\n",
       "       [0.9571251 ],\n",
       "       [0.5935823 ],\n",
       "       [0.09418663],\n",
       "       [0.95592034],\n",
       "       [0.08514723],\n",
       "       [0.0941866 ],\n",
       "       [0.0941866 ]], dtype=float32)"
      ]
     },
     "execution_count": 94,
     "metadata": {},
     "output_type": "execute_result"
    }
   ],
   "source": [
    "test_data = np.asarray(test_data).astype('float32')\n",
    "\n",
    "predictions = model.predict(test_data)\n",
    "predictions"
   ]
  },
  {
   "attachments": {},
   "cell_type": "markdown",
   "metadata": {},
   "source": [
    "Because the values are not boolean values (what is needed because unless you are a zombie you are either dead or not, nothing between) we will convert the values into boolean values. Therefore we will use the `round` function from the `numpy` package.\n",
    "\n"
   ]
  },
  {
   "cell_type": "code",
   "execution_count": 106,
   "metadata": {},
   "outputs": [
    {
     "data": {
      "text/plain": [
       "array([0, 1, 0, 0, 1, 0, 1, 0, 1, 0, 0, 0, 1, 0, 1, 1, 0, 0, 1, 1, 0, 0,\n",
       "       1, 0, 1, 0, 1, 0, 0, 0, 0, 0, 1, 1, 0, 0, 1, 1, 0, 0, 0, 0, 0, 1,\n",
       "       1, 0, 0, 0, 1, 1, 0, 0, 1, 1, 0, 0, 0, 0, 0, 1, 0, 0, 0, 1, 1, 1,\n",
       "       1, 0, 0, 1, 1, 0, 1, 0, 1, 0, 0, 1, 0, 1, 0, 0, 0, 0, 0, 0, 1, 1,\n",
       "       1, 1, 1, 0, 1, 0, 0, 0, 1, 0, 1, 0, 1, 0, 0, 0, 1, 0, 0, 0, 0, 0,\n",
       "       0, 1, 1, 1, 1, 0, 0, 1, 0, 1, 1, 0, 1, 0, 0, 1, 0, 1, 0, 0, 0, 0,\n",
       "       1, 0, 0, 0, 0, 0, 1, 0, 0, 1, 0, 0, 0, 0, 0, 0, 0, 0, 1, 0, 0, 1,\n",
       "       0, 0, 1, 1, 0, 1, 1, 0, 1, 0, 0, 1, 0, 0, 1, 1, 0, 0, 0, 0, 0, 1,\n",
       "       1, 0, 1, 1, 0, 0, 1, 0, 1, 0, 1, 0, 1, 0, 0, 0, 0, 0, 0, 0, 1, 1,\n",
       "       0, 1, 1, 1, 0, 1, 0, 0, 1, 0, 1, 0, 0, 0, 0, 1, 1, 0, 1, 0, 1, 0,\n",
       "       1, 0, 1, 0, 1, 1, 0, 1, 0, 0, 0, 1, 0, 0, 0, 0, 0, 0, 1, 1, 1, 1,\n",
       "       0, 0, 0, 0, 1, 0, 1, 1, 1, 0, 0, 0, 0, 0, 0, 0, 1, 0, 0, 0, 1, 1,\n",
       "       0, 0, 0, 0, 1, 0, 0, 0, 1, 1, 0, 1, 0, 0, 0, 0, 1, 1, 1, 0, 1, 0,\n",
       "       0, 0, 0, 0, 0, 1, 0, 0, 0, 0, 1, 0, 0, 0, 0, 0, 0, 0, 1, 1, 0, 1,\n",
       "       0, 1, 0, 0, 0, 1, 1, 1, 0, 0, 0, 0, 0, 0, 0, 0, 1, 0, 1, 0, 0, 0,\n",
       "       1, 0, 0, 1, 0, 0, 0, 0, 0, 0, 0, 0, 0, 1, 0, 1, 0, 1, 0, 1, 1, 0,\n",
       "       0, 0, 1, 0, 1, 0, 0, 1, 0, 1, 1, 0, 1, 1, 0, 1, 1, 0, 0, 1, 0, 0,\n",
       "       1, 1, 1, 0, 0, 0, 0, 0, 1, 1, 0, 1, 0, 0, 0, 0, 0, 1, 0, 0, 0, 1,\n",
       "       0, 1, 0, 0, 1, 0, 1, 0, 0, 0, 0, 0, 1, 1, 1, 1, 1, 0, 1, 0, 0, 0])"
      ]
     },
     "execution_count": 106,
     "metadata": {},
     "output_type": "execute_result"
    }
   ],
   "source": [
    "predictions = np.where(predictions > 0.5, 1, 0)\n",
    "predictions = predictions.flatten()\n",
    "predictions"
   ]
  },
  {
   "attachments": {},
   "cell_type": "markdown",
   "metadata": {},
   "source": [
    "## Export\n",
    "\n",
    "Finally we will export the predicted values into a csv file. Therefore we will use the `to_csv` function from the `pandas` package."
   ]
  },
  {
   "cell_type": "code",
   "execution_count": 107,
   "metadata": {},
   "outputs": [
    {
     "name": "stdout",
     "output_type": "stream",
     "text": [
      "14_24_26\n",
      "Your submission was successfully saved!\n",
      "export\\my_submission_nn_14_24_26.csv\n"
     ]
    }
   ],
   "source": [
    "import os\n",
    "import time\n",
    "from datetime import datetime\n",
    "\n",
    "timestamp = time.time()\n",
    "timestamp = datetime.fromtimestamp(timestamp).strftime(\"%H_%M_%S\")\n",
    "print(timestamp)\n",
    "\n",
    "test_data = pd.read_csv(\"data/test.csv\")\n",
    "\n",
    "predictions #Enhält die Predictions 0 für Tod 1 für Survived\n",
    "output = pd.DataFrame({'PassengerId': test_data.PassengerId, 'Survived': predictions})\n",
    "\n",
    "filename = 'my_submission_nn_' + timestamp + '.csv'\n",
    "fileDir = os.path.join(\"export\", filename)\n",
    "\n",
    "output.to_csv(fileDir, index=False)\n",
    "print(\"Your submission was successfully saved!\")\n",
    "print(fileDir)\n"
   ]
  },
  {
   "attachments": {},
   "cell_type": "markdown",
   "metadata": {},
   "source": [
    "### Ignore stuff below"
   ]
  },
  {
   "cell_type": "code",
   "execution_count": null,
   "metadata": {},
   "outputs": [],
   "source": [
    "X_train, X_test, y_train, y_test = train_test_split(train_data, train_data[\"Survived\"], test_size=0.2, random_state=42)\n",
    "\n",
    "y = train_data[\"Survived\"]\n",
    "\n",
    "features = [\"Pclass\"]\n",
    "x = pd.get_dummies(train_data[features])\n",
    "\n",
    "#...\n",
    "#model.add(BatchNormalization())\n",
    "#model.add(Dropout(0.2))\n",
    "#model.add(Dense(10, activation='sigmoid'))\n",
    "#model.add(keras.layers.normalization.BatchNormalization())\n",
    "#model.add(Dropout(0.2))"
   ]
  },
  {
   "cell_type": "code",
   "execution_count": 11,
   "metadata": {},
   "outputs": [
    {
     "name": "stdout",
     "output_type": "stream",
     "text": [
      "Model: \"sequential\"\n",
      "_________________________________________________________________\n",
      " Layer (type)                Output Shape              Param #   \n",
      "=================================================================\n",
      " dense_1 (Dense)             (None, 10)                20        \n",
      "                                                                 \n",
      " batch_normalization (BatchN  (None, 10)               40        \n",
      " ormalization)                                                   \n",
      "                                                                 \n",
      " dropout (Dropout)           (None, 10)                0         \n",
      "                                                                 \n",
      " dense_2 (Dense)             (None, 1024)              11264     \n",
      "                                                                 \n",
      " batch_normalization_1 (Batc  (None, 1024)             4096      \n",
      " hNormalization)                                                 \n",
      "                                                                 \n",
      " dropout_1 (Dropout)         (None, 1024)              0         \n",
      "                                                                 \n",
      " dense_3 (Dense)             (None, 1)                 1025      \n",
      "                                                                 \n",
      "=================================================================\n",
      "Total params: 16,445\n",
      "Trainable params: 14,377\n",
      "Non-trainable params: 2,068\n",
      "_________________________________________________________________\n"
     ]
    }
   ],
   "source": [
    "\n",
    "#model.add(Dense(1, activation='sigmoid', batch_input_shape=(None, 4))) #We have 4 input features\n",
    "model.add(Dense(10, activation='sigmoid', batch_input_shape=(1,)))\n",
    "model.add(BatchNormalization())\n",
    "model.add(Dropout(0.2))\n",
    "model.add(Dense(1024, activation='sigmoid'))\n",
    "model.add(BatchNormalization())\n",
    "model.add(Dropout(0.2))\n",
    "model.add(Dense(1, activation='softmax'))\n",
    "\n",
    "opt = tf.keras.optimizers.Adam(learning_rate=1e-3)\n",
    "\n",
    "# Compile the model\n",
    "model.compile(loss=tf.keras.losses.BinaryCrossentropy(),\n",
    "              optimizer=opt,\n",
    "              metrics=['accuracy'])\n",
    "\n",
    "model.summary()"
   ]
  }
 ],
 "metadata": {
  "kernelspec": {
   "display_name": "Python 3",
   "language": "python",
   "name": "python3"
  },
  "language_info": {
   "codemirror_mode": {
    "name": "ipython",
    "version": 3
   },
   "file_extension": ".py",
   "mimetype": "text/x-python",
   "name": "python",
   "nbconvert_exporter": "python",
   "pygments_lexer": "ipython3",
   "version": "3.10.7"
  },
  "orig_nbformat": 4
 },
 "nbformat": 4,
 "nbformat_minor": 2
}
