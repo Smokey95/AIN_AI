{
 "cells": [
  {
   "attachments": {},
   "cell_type": "markdown",
   "metadata": {},
   "source": [
    "# Titanic with neuronal networks"
   ]
  },
  {
   "cell_type": "code",
   "execution_count": 150,
   "metadata": {},
   "outputs": [
    {
     "name": "stdout",
     "output_type": "stream",
     "text": [
      "Model: \"sequential_12\"\n",
      "_________________________________________________________________\n",
      " Layer (type)                Output Shape              Param #   \n",
      "=================================================================\n",
      " dense_70 (Dense)            (None, 10)                50        \n",
      "                                                                 \n",
      " dense_71 (Dense)            (None, 1)                 11        \n",
      "                                                                 \n",
      "=================================================================\n",
      "Total params: 61\n",
      "Trainable params: 61\n",
      "Non-trainable params: 0\n",
      "_________________________________________________________________\n"
     ]
    }
   ],
   "source": [
    "import tensorflow as tf\n",
    "import tensorflow.keras \n",
    "from tensorflow.keras.models import Sequential\n",
    "from tensorflow.keras.layers import Dense\n",
    "\n",
    "model = Sequential()\n",
    "\n",
    "model.add(Dense(10, activation='sigmoid', batch_input_shape=(None, 4))) #We have 4 input features\n",
    "#...\n",
    "model.add(Dense(1, activation='sigmoid'))\n",
    "opt = tf.keras.optimizers.Adam(learning_rate=1e-3)\n",
    "model.compile(loss=tf.keras.losses.BinaryCrossentropy(),\n",
    "              optimizer=opt,\n",
    "              metrics=['accuracy'])\n",
    "model.summary()"
   ]
  },
  {
   "attachments": {},
   "cell_type": "markdown",
   "metadata": {},
   "source": [
    "Imports"
   ]
  },
  {
   "cell_type": "code",
   "execution_count": 151,
   "metadata": {},
   "outputs": [],
   "source": [
    "import tensorflow as tf\n",
    "import tensorflow.keras\n",
    "\n",
    "from tensorflow.keras.models import Sequential\n",
    "from tensorflow.keras.layers import Dense\n",
    "from tensorflow.keras.layers import BatchNormalization\n",
    "from tensorflow.keras.layers import Normalization\n",
    "from tensorflow.keras.layers import Dropout\n",
    "\n",
    "import pandas as pd\n",
    "\n",
    "import numpy as np\n",
    "\n",
    "from sklearn.model_selection import train_test_split"
   ]
  },
  {
   "cell_type": "code",
   "execution_count": 160,
   "metadata": {},
   "outputs": [],
   "source": [
    "train_data = pd.read_csv(\"data/train.csv\")"
   ]
  },
  {
   "cell_type": "code",
   "execution_count": 153,
   "metadata": {},
   "outputs": [
    {
     "name": "stdout",
     "output_type": "stream",
     "text": [
      "<class 'pandas.core.frame.DataFrame'>\n",
      "RangeIndex: 891 entries, 0 to 890\n",
      "Data columns (total 12 columns):\n",
      " #   Column       Non-Null Count  Dtype  \n",
      "---  ------       --------------  -----  \n",
      " 0   PassengerId  891 non-null    int64  \n",
      " 1   Survived     891 non-null    int64  \n",
      " 2   Pclass       891 non-null    int64  \n",
      " 3   Name         891 non-null    object \n",
      " 4   Sex          891 non-null    object \n",
      " 5   Age          714 non-null    float64\n",
      " 6   SibSp        891 non-null    int64  \n",
      " 7   Parch        891 non-null    int64  \n",
      " 8   Ticket       891 non-null    object \n",
      " 9   Fare         891 non-null    float64\n",
      " 10  Cabin        204 non-null    object \n",
      " 11  Embarked     889 non-null    object \n",
      "dtypes: float64(2), int64(5), object(5)\n",
      "memory usage: 83.7+ KB\n"
     ]
    }
   ],
   "source": [
    "train_data.info()"
   ]
  },
  {
   "cell_type": "code",
   "execution_count": 161,
   "metadata": {},
   "outputs": [
    {
     "name": "stdout",
     "output_type": "stream",
     "text": [
      "<class 'pandas.core.frame.DataFrame'>\n",
      "RangeIndex: 891 entries, 0 to 890\n",
      "Data columns (total 2 columns):\n",
      " #   Column    Non-Null Count  Dtype\n",
      "---  ------    --------------  -----\n",
      " 0   Pclass    891 non-null    Int64\n",
      " 1   Survived  891 non-null    Int64\n",
      "dtypes: Int64(2)\n",
      "memory usage: 15.8 KB\n"
     ]
    }
   ],
   "source": [
    "features = [\"Pclass\", \"Survived\"]\n",
    "#features = [\"Age\", \"Survived\"]\n",
    "\n",
    "#train_data.drop(['Name', 'Ticket', 'PassengerId', 'Cabin', 'Age', 'SibSp', 'Parch', 'Fare', 'Embarked'], axis=1, inplace=True)\n",
    "#train_data.astype('float32')\n",
    "\n",
    "train_data = pd.get_dummies(train_data[features], dtype='float64')\n",
    "\n",
    "test = train_data.convert_dtypes(convert_integer=True)\n",
    "#train_data.convert_dtypes(convert_integer=True)\n",
    "\n",
    "test.info()"
   ]
  },
  {
   "cell_type": "code",
   "execution_count": 162,
   "metadata": {},
   "outputs": [
    {
     "name": "stdout",
     "output_type": "stream",
     "text": [
      "Input features shape: (891, 1)\n",
      "Labels shape: (891,)\n"
     ]
    }
   ],
   "source": [
    "X = train_data.drop('Survived', axis=1, inplace=False)\n",
    "y = train_data['Survived']\n",
    "\n",
    "print(f'Input features shape: {X.shape}')\n",
    "print(f'Labels shape: {y.shape}')"
   ]
  },
  {
   "cell_type": "code",
   "execution_count": 163,
   "metadata": {},
   "outputs": [],
   "source": [
    "from sklearn.model_selection import train_test_split\n",
    "\n",
    "X_train, X_val, y_train, y_val = train_test_split(X, y, test_size=0.2, random_state=42)"
   ]
  },
  {
   "cell_type": "code",
   "execution_count": 146,
   "metadata": {},
   "outputs": [
    {
     "data": {
      "text/html": [
       "<div>\n",
       "<style scoped>\n",
       "    .dataframe tbody tr th:only-of-type {\n",
       "        vertical-align: middle;\n",
       "    }\n",
       "\n",
       "    .dataframe tbody tr th {\n",
       "        vertical-align: top;\n",
       "    }\n",
       "\n",
       "    .dataframe thead th {\n",
       "        text-align: right;\n",
       "    }\n",
       "</style>\n",
       "<table border=\"1\" class=\"dataframe\">\n",
       "  <thead>\n",
       "    <tr style=\"text-align: right;\">\n",
       "      <th></th>\n",
       "      <th>Age</th>\n",
       "    </tr>\n",
       "  </thead>\n",
       "  <tbody>\n",
       "    <tr>\n",
       "      <th>331</th>\n",
       "      <td>45.5</td>\n",
       "    </tr>\n",
       "    <tr>\n",
       "      <th>733</th>\n",
       "      <td>23.0</td>\n",
       "    </tr>\n",
       "    <tr>\n",
       "      <th>382</th>\n",
       "      <td>32.0</td>\n",
       "    </tr>\n",
       "    <tr>\n",
       "      <th>704</th>\n",
       "      <td>26.0</td>\n",
       "    </tr>\n",
       "    <tr>\n",
       "      <th>813</th>\n",
       "      <td>6.0</td>\n",
       "    </tr>\n",
       "    <tr>\n",
       "      <th>...</th>\n",
       "      <td>...</td>\n",
       "    </tr>\n",
       "    <tr>\n",
       "      <th>106</th>\n",
       "      <td>21.0</td>\n",
       "    </tr>\n",
       "    <tr>\n",
       "      <th>270</th>\n",
       "      <td>NaN</td>\n",
       "    </tr>\n",
       "    <tr>\n",
       "      <th>860</th>\n",
       "      <td>41.0</td>\n",
       "    </tr>\n",
       "    <tr>\n",
       "      <th>435</th>\n",
       "      <td>14.0</td>\n",
       "    </tr>\n",
       "    <tr>\n",
       "      <th>102</th>\n",
       "      <td>21.0</td>\n",
       "    </tr>\n",
       "  </tbody>\n",
       "</table>\n",
       "<p>712 rows × 1 columns</p>\n",
       "</div>"
      ],
      "text/plain": [
       "      Age\n",
       "331  45.5\n",
       "733  23.0\n",
       "382  32.0\n",
       "704  26.0\n",
       "813   6.0\n",
       "..    ...\n",
       "106  21.0\n",
       "270   NaN\n",
       "860  41.0\n",
       "435  14.0\n",
       "102  21.0\n",
       "\n",
       "[712 rows x 1 columns]"
      ]
     },
     "execution_count": 146,
     "metadata": {},
     "output_type": "execute_result"
    }
   ],
   "source": [
    "X_train"
   ]
  },
  {
   "cell_type": "code",
   "execution_count": 164,
   "metadata": {},
   "outputs": [],
   "source": [
    "model = Sequential()"
   ]
  },
  {
   "cell_type": "code",
   "execution_count": 165,
   "metadata": {},
   "outputs": [],
   "source": [
    "from tensorflow.keras import layers#\n",
    "model.add(layers.InputLayer(input_shape=(1,)))"
   ]
  },
  {
   "cell_type": "code",
   "execution_count": 167,
   "metadata": {},
   "outputs": [
    {
     "name": "stdout",
     "output_type": "stream",
     "text": [
      "Model: \"sequential_14\"\n",
      "_________________________________________________________________\n",
      " Layer (type)                Output Shape              Param #   \n",
      "=================================================================\n",
      " dense_73 (Dense)            (None, 10)                20        \n",
      "                                                                 \n",
      " batch_normalization_9 (Batc  (None, 10)               40        \n",
      " hNormalization)                                                 \n",
      "                                                                 \n",
      " dropout_8 (Dropout)         (None, 10)                0         \n",
      "                                                                 \n",
      " dense_74 (Dense)            (None, 1024)              11264     \n",
      "                                                                 \n",
      " batch_normalization_10 (Bat  (None, 1024)             4096      \n",
      " chNormalization)                                                \n",
      "                                                                 \n",
      " dropout_9 (Dropout)         (None, 1024)              0         \n",
      "                                                                 \n",
      " dense_75 (Dense)            (None, 1)                 1025      \n",
      "                                                                 \n",
      " dense_76 (Dense)            (None, 10)                20        \n",
      "                                                                 \n",
      " batch_normalization_11 (Bat  (None, 10)               40        \n",
      " chNormalization)                                                \n",
      "                                                                 \n",
      " dropout_10 (Dropout)        (None, 10)                0         \n",
      "                                                                 \n",
      " dense_77 (Dense)            (None, 1024)              11264     \n",
      "                                                                 \n",
      " batch_normalization_12 (Bat  (None, 1024)             4096      \n",
      " chNormalization)                                                \n",
      "                                                                 \n",
      " dropout_11 (Dropout)        (None, 1024)              0         \n",
      "                                                                 \n",
      " dense_78 (Dense)            (None, 1)                 1025      \n",
      "                                                                 \n",
      "=================================================================\n",
      "Total params: 32,890\n",
      "Trainable params: 28,754\n",
      "Non-trainable params: 4,136\n",
      "_________________________________________________________________\n"
     ]
    }
   ],
   "source": [
    "\n",
    "#model.add(Dense(1, activation='sigmoid', batch_input_shape=(None, 4))) #We have 4 input features\n",
    "model.add(Dense(10, activation='sigmoid', batch_input_shape=(1,)))\n",
    "model.add(BatchNormalization())\n",
    "model.add(Dropout(0.2))\n",
    "model.add(Dense(1024, activation='sigmoid'))\n",
    "model.add(BatchNormalization())\n",
    "model.add(Dropout(0.2))\n",
    "model.add(Dense(1, activation='softmax'))\n",
    "\n",
    "opt = tf.keras.optimizers.Adam(learning_rate=1e-3)\n",
    "\n",
    "# Compile the model\n",
    "model.compile(loss=tf.keras.losses.BinaryCrossentropy(),\n",
    "              optimizer=opt,\n",
    "              metrics=['accuracy'])\n",
    "\n",
    "model.summary()"
   ]
  },
  {
   "cell_type": "code",
   "execution_count": 168,
   "metadata": {},
   "outputs": [
    {
     "name": "stdout",
     "output_type": "stream",
     "text": [
      "Epoch 1/100\n",
      "23/23 [==============================] - 2s 14ms/step - loss: 0.6721 - accuracy: 0.3764 - val_loss: 0.8359 - val_accuracy: 0.4134\n",
      "Epoch 2/100\n",
      "23/23 [==============================] - 0s 6ms/step - loss: 0.6639 - accuracy: 0.3764 - val_loss: 0.7580 - val_accuracy: 0.4134\n",
      "Epoch 3/100\n",
      "23/23 [==============================] - 0s 5ms/step - loss: 0.6638 - accuracy: 0.3764 - val_loss: 0.7591 - val_accuracy: 0.4134\n",
      "Epoch 4/100\n",
      "23/23 [==============================] - 0s 5ms/step - loss: 0.6639 - accuracy: 0.3764 - val_loss: 0.7454 - val_accuracy: 0.4134\n",
      "Epoch 5/100\n",
      "23/23 [==============================] - 0s 5ms/step - loss: 0.6655 - accuracy: 0.3764 - val_loss: 0.7531 - val_accuracy: 0.4134\n",
      "Epoch 6/100\n",
      "23/23 [==============================] - 0s 6ms/step - loss: 0.6645 - accuracy: 0.3764 - val_loss: 0.7308 - val_accuracy: 0.4134\n",
      "Epoch 7/100\n",
      "23/23 [==============================] - 0s 6ms/step - loss: 0.6650 - accuracy: 0.3764 - val_loss: 0.7321 - val_accuracy: 0.4134\n",
      "Epoch 8/100\n",
      "23/23 [==============================] - 0s 5ms/step - loss: 0.6629 - accuracy: 0.3764 - val_loss: 0.7468 - val_accuracy: 0.4134\n",
      "Epoch 9/100\n",
      "23/23 [==============================] - 0s 5ms/step - loss: 0.6640 - accuracy: 0.3764 - val_loss: 0.7220 - val_accuracy: 0.4134\n",
      "Epoch 10/100\n",
      "23/23 [==============================] - 0s 5ms/step - loss: 0.6631 - accuracy: 0.3764 - val_loss: 0.7175 - val_accuracy: 0.4134\n",
      "Epoch 11/100\n",
      "23/23 [==============================] - 0s 5ms/step - loss: 0.6644 - accuracy: 0.3764 - val_loss: 0.6959 - val_accuracy: 0.4134\n",
      "Epoch 12/100\n",
      "23/23 [==============================] - 0s 6ms/step - loss: 0.6621 - accuracy: 0.3764 - val_loss: 0.7015 - val_accuracy: 0.4134\n",
      "Epoch 13/100\n",
      "23/23 [==============================] - 0s 7ms/step - loss: 0.6632 - accuracy: 0.3764 - val_loss: 0.6944 - val_accuracy: 0.4134\n",
      "Epoch 14/100\n",
      "23/23 [==============================] - 0s 6ms/step - loss: 0.6625 - accuracy: 0.3764 - val_loss: 0.6888 - val_accuracy: 0.4134\n",
      "Epoch 15/100\n",
      "23/23 [==============================] - 0s 6ms/step - loss: 0.6643 - accuracy: 0.3764 - val_loss: 0.6904 - val_accuracy: 0.4134\n",
      "Epoch 16/100\n",
      "23/23 [==============================] - 0s 6ms/step - loss: 0.6632 - accuracy: 0.3764 - val_loss: 0.6956 - val_accuracy: 0.4134\n",
      "Epoch 17/100\n",
      "23/23 [==============================] - 0s 5ms/step - loss: 0.6631 - accuracy: 0.3764 - val_loss: 0.6915 - val_accuracy: 0.4134\n",
      "Epoch 18/100\n",
      "23/23 [==============================] - 0s 6ms/step - loss: 0.6634 - accuracy: 0.3764 - val_loss: 0.6807 - val_accuracy: 0.4134\n",
      "Epoch 19/100\n",
      "23/23 [==============================] - 0s 6ms/step - loss: 0.6631 - accuracy: 0.3764 - val_loss: 0.6794 - val_accuracy: 0.4134\n",
      "Epoch 20/100\n",
      "23/23 [==============================] - 0s 7ms/step - loss: 0.6614 - accuracy: 0.3764 - val_loss: 0.6815 - val_accuracy: 0.4134\n",
      "Epoch 21/100\n",
      "23/23 [==============================] - 0s 5ms/step - loss: 0.6663 - accuracy: 0.3764 - val_loss: 0.6837 - val_accuracy: 0.4134\n",
      "Epoch 22/100\n",
      "23/23 [==============================] - 0s 5ms/step - loss: 0.6632 - accuracy: 0.3764 - val_loss: 0.6789 - val_accuracy: 0.4134\n",
      "Epoch 23/100\n",
      "23/23 [==============================] - 0s 5ms/step - loss: 0.6645 - accuracy: 0.3764 - val_loss: 0.6795 - val_accuracy: 0.4134\n",
      "Epoch 24/100\n",
      "23/23 [==============================] - 0s 5ms/step - loss: 0.6638 - accuracy: 0.3764 - val_loss: 0.6821 - val_accuracy: 0.4134\n",
      "Epoch 25/100\n",
      "23/23 [==============================] - 0s 5ms/step - loss: 0.6641 - accuracy: 0.3764 - val_loss: 0.6805 - val_accuracy: 0.4134\n",
      "Epoch 26/100\n",
      "23/23 [==============================] - 0s 5ms/step - loss: 0.6641 - accuracy: 0.3764 - val_loss: 0.6826 - val_accuracy: 0.4134\n",
      "Epoch 27/100\n",
      "23/23 [==============================] - 0s 5ms/step - loss: 0.6624 - accuracy: 0.3764 - val_loss: 0.6887 - val_accuracy: 0.4134\n",
      "Epoch 28/100\n",
      "23/23 [==============================] - 0s 5ms/step - loss: 0.6630 - accuracy: 0.3764 - val_loss: 0.6809 - val_accuracy: 0.4134\n",
      "Epoch 29/100\n",
      "23/23 [==============================] - 0s 5ms/step - loss: 0.6608 - accuracy: 0.3764 - val_loss: 0.6845 - val_accuracy: 0.4134\n",
      "Epoch 30/100\n",
      "23/23 [==============================] - 0s 5ms/step - loss: 0.6634 - accuracy: 0.3764 - val_loss: 0.6787 - val_accuracy: 0.4134\n",
      "Epoch 31/100\n",
      "23/23 [==============================] - 0s 5ms/step - loss: 0.6627 - accuracy: 0.3764 - val_loss: 0.6781 - val_accuracy: 0.4134\n",
      "Epoch 32/100\n",
      "23/23 [==============================] - 0s 5ms/step - loss: 0.6605 - accuracy: 0.3764 - val_loss: 0.6783 - val_accuracy: 0.4134\n",
      "Epoch 33/100\n",
      "23/23 [==============================] - 0s 5ms/step - loss: 0.6656 - accuracy: 0.3764 - val_loss: 0.7052 - val_accuracy: 0.4134\n",
      "Epoch 34/100\n",
      "23/23 [==============================] - 0s 5ms/step - loss: 0.6626 - accuracy: 0.3764 - val_loss: 0.6783 - val_accuracy: 0.4134\n",
      "Epoch 35/100\n",
      "23/23 [==============================] - 0s 5ms/step - loss: 0.6624 - accuracy: 0.3764 - val_loss: 0.6921 - val_accuracy: 0.4134\n",
      "Epoch 36/100\n",
      "23/23 [==============================] - 0s 5ms/step - loss: 0.6654 - accuracy: 0.3764 - val_loss: 0.6991 - val_accuracy: 0.4134\n",
      "Epoch 37/100\n",
      "23/23 [==============================] - 0s 6ms/step - loss: 0.6636 - accuracy: 0.3764 - val_loss: 0.6817 - val_accuracy: 0.4134\n",
      "Epoch 38/100\n",
      "23/23 [==============================] - 0s 6ms/step - loss: 0.6629 - accuracy: 0.3764 - val_loss: 0.6822 - val_accuracy: 0.4134\n",
      "Epoch 39/100\n",
      "23/23 [==============================] - 0s 8ms/step - loss: 0.6643 - accuracy: 0.3764 - val_loss: 0.6846 - val_accuracy: 0.4134\n",
      "Epoch 40/100\n",
      "23/23 [==============================] - 0s 6ms/step - loss: 0.6626 - accuracy: 0.3764 - val_loss: 0.6804 - val_accuracy: 0.4134\n",
      "Epoch 41/100\n",
      "23/23 [==============================] - 0s 7ms/step - loss: 0.6638 - accuracy: 0.3764 - val_loss: 0.6802 - val_accuracy: 0.4134\n",
      "Epoch 42/100\n",
      "23/23 [==============================] - 0s 6ms/step - loss: 0.6628 - accuracy: 0.3764 - val_loss: 0.6806 - val_accuracy: 0.4134\n",
      "Epoch 43/100\n",
      "23/23 [==============================] - 0s 6ms/step - loss: 0.6634 - accuracy: 0.3764 - val_loss: 0.6831 - val_accuracy: 0.4134\n",
      "Epoch 44/100\n",
      "23/23 [==============================] - 0s 6ms/step - loss: 0.6638 - accuracy: 0.3764 - val_loss: 0.6856 - val_accuracy: 0.4134\n",
      "Epoch 45/100\n",
      "23/23 [==============================] - 0s 6ms/step - loss: 0.6636 - accuracy: 0.3764 - val_loss: 0.6782 - val_accuracy: 0.4134\n",
      "Epoch 46/100\n",
      "23/23 [==============================] - 0s 7ms/step - loss: 0.6627 - accuracy: 0.3764 - val_loss: 0.6781 - val_accuracy: 0.4134\n",
      "Epoch 47/100\n",
      "23/23 [==============================] - 0s 6ms/step - loss: 0.6637 - accuracy: 0.3764 - val_loss: 0.6786 - val_accuracy: 0.4134\n",
      "Epoch 48/100\n",
      "23/23 [==============================] - 0s 6ms/step - loss: 0.6624 - accuracy: 0.3764 - val_loss: 0.6894 - val_accuracy: 0.4134\n",
      "Epoch 49/100\n",
      "23/23 [==============================] - 0s 5ms/step - loss: 0.6625 - accuracy: 0.3764 - val_loss: 0.6876 - val_accuracy: 0.4134\n",
      "Epoch 50/100\n",
      "23/23 [==============================] - 0s 5ms/step - loss: 0.6632 - accuracy: 0.3764 - val_loss: 0.6973 - val_accuracy: 0.4134\n",
      "Epoch 51/100\n",
      "23/23 [==============================] - 0s 5ms/step - loss: 0.6638 - accuracy: 0.3764 - val_loss: 0.6802 - val_accuracy: 0.4134\n",
      "Epoch 52/100\n",
      "23/23 [==============================] - 0s 5ms/step - loss: 0.6626 - accuracy: 0.3764 - val_loss: 0.6820 - val_accuracy: 0.4134\n",
      "Epoch 53/100\n",
      "23/23 [==============================] - 0s 5ms/step - loss: 0.6628 - accuracy: 0.3764 - val_loss: 0.6816 - val_accuracy: 0.4134\n",
      "Epoch 54/100\n",
      "23/23 [==============================] - 0s 6ms/step - loss: 0.6623 - accuracy: 0.3764 - val_loss: 0.6831 - val_accuracy: 0.4134\n",
      "Epoch 55/100\n",
      "23/23 [==============================] - 0s 6ms/step - loss: 0.6626 - accuracy: 0.3764 - val_loss: 0.6815 - val_accuracy: 0.4134\n",
      "Epoch 56/100\n",
      "23/23 [==============================] - 0s 6ms/step - loss: 0.6627 - accuracy: 0.3764 - val_loss: 0.6812 - val_accuracy: 0.4134\n",
      "Epoch 57/100\n",
      "23/23 [==============================] - 0s 7ms/step - loss: 0.6624 - accuracy: 0.3764 - val_loss: 0.6811 - val_accuracy: 0.4134\n",
      "Epoch 58/100\n",
      "23/23 [==============================] - 0s 6ms/step - loss: 0.6628 - accuracy: 0.3764 - val_loss: 0.6819 - val_accuracy: 0.4134\n",
      "Epoch 59/100\n",
      "23/23 [==============================] - 0s 6ms/step - loss: 0.6635 - accuracy: 0.3764 - val_loss: 0.6802 - val_accuracy: 0.4134\n",
      "Epoch 60/100\n",
      "23/23 [==============================] - 0s 5ms/step - loss: 0.6631 - accuracy: 0.3764 - val_loss: 0.6782 - val_accuracy: 0.4134\n",
      "Epoch 61/100\n",
      "23/23 [==============================] - 0s 6ms/step - loss: 0.6624 - accuracy: 0.3764 - val_loss: 0.6786 - val_accuracy: 0.4134\n",
      "Epoch 62/100\n",
      "23/23 [==============================] - 0s 8ms/step - loss: 0.6630 - accuracy: 0.3764 - val_loss: 0.6789 - val_accuracy: 0.4134\n",
      "Epoch 63/100\n",
      "23/23 [==============================] - 0s 5ms/step - loss: 0.6626 - accuracy: 0.3764 - val_loss: 0.6782 - val_accuracy: 0.4134\n",
      "Epoch 64/100\n",
      "23/23 [==============================] - 0s 5ms/step - loss: 0.6628 - accuracy: 0.3764 - val_loss: 0.7004 - val_accuracy: 0.4134\n",
      "Epoch 65/100\n",
      "23/23 [==============================] - 0s 5ms/step - loss: 0.6630 - accuracy: 0.3764 - val_loss: 0.6966 - val_accuracy: 0.4134\n",
      "Epoch 66/100\n",
      "23/23 [==============================] - 0s 5ms/step - loss: 0.6631 - accuracy: 0.3764 - val_loss: 0.6827 - val_accuracy: 0.4134\n",
      "Epoch 67/100\n",
      "23/23 [==============================] - 0s 5ms/step - loss: 0.6621 - accuracy: 0.3764 - val_loss: 0.6798 - val_accuracy: 0.4134\n",
      "Epoch 68/100\n",
      "23/23 [==============================] - 0s 5ms/step - loss: 0.6621 - accuracy: 0.3764 - val_loss: 0.6782 - val_accuracy: 0.4134\n",
      "Epoch 69/100\n",
      "23/23 [==============================] - 0s 5ms/step - loss: 0.6623 - accuracy: 0.3764 - val_loss: 0.6821 - val_accuracy: 0.4134\n",
      "Epoch 70/100\n",
      "23/23 [==============================] - 0s 5ms/step - loss: 0.6629 - accuracy: 0.3764 - val_loss: 0.6786 - val_accuracy: 0.4134\n",
      "Epoch 71/100\n",
      "23/23 [==============================] - 0s 7ms/step - loss: 0.6631 - accuracy: 0.3764 - val_loss: 0.6781 - val_accuracy: 0.4134\n",
      "Epoch 72/100\n",
      "23/23 [==============================] - 0s 7ms/step - loss: 0.6631 - accuracy: 0.3764 - val_loss: 0.6781 - val_accuracy: 0.4134\n",
      "Epoch 73/100\n",
      "23/23 [==============================] - 0s 6ms/step - loss: 0.6631 - accuracy: 0.3764 - val_loss: 0.6801 - val_accuracy: 0.4134\n",
      "Epoch 74/100\n",
      "23/23 [==============================] - 0s 6ms/step - loss: 0.6639 - accuracy: 0.3764 - val_loss: 0.6834 - val_accuracy: 0.4134\n",
      "Epoch 75/100\n",
      "23/23 [==============================] - 0s 6ms/step - loss: 0.6627 - accuracy: 0.3764 - val_loss: 0.6877 - val_accuracy: 0.4134\n",
      "Epoch 76/100\n",
      "23/23 [==============================] - 0s 6ms/step - loss: 0.6634 - accuracy: 0.3764 - val_loss: 0.6781 - val_accuracy: 0.4134\n",
      "Epoch 77/100\n",
      "23/23 [==============================] - 0s 6ms/step - loss: 0.6619 - accuracy: 0.3764 - val_loss: 0.6781 - val_accuracy: 0.4134\n",
      "Epoch 78/100\n",
      "23/23 [==============================] - 0s 8ms/step - loss: 0.6633 - accuracy: 0.3764 - val_loss: 0.6792 - val_accuracy: 0.4134\n",
      "Epoch 79/100\n",
      "23/23 [==============================] - 0s 6ms/step - loss: 0.6627 - accuracy: 0.3764 - val_loss: 0.6788 - val_accuracy: 0.4134\n",
      "Epoch 80/100\n",
      "23/23 [==============================] - 0s 6ms/step - loss: 0.6626 - accuracy: 0.3764 - val_loss: 0.7094 - val_accuracy: 0.4134\n",
      "Epoch 81/100\n",
      "23/23 [==============================] - 0s 6ms/step - loss: 0.6637 - accuracy: 0.3764 - val_loss: 0.6793 - val_accuracy: 0.4134\n",
      "Epoch 82/100\n",
      "23/23 [==============================] - 0s 5ms/step - loss: 0.6629 - accuracy: 0.3764 - val_loss: 0.6789 - val_accuracy: 0.4134\n",
      "Epoch 83/100\n",
      "23/23 [==============================] - 0s 5ms/step - loss: 0.6624 - accuracy: 0.3764 - val_loss: 0.7077 - val_accuracy: 0.4134\n",
      "Epoch 84/100\n",
      "23/23 [==============================] - 0s 5ms/step - loss: 0.6633 - accuracy: 0.3764 - val_loss: 0.6818 - val_accuracy: 0.4134\n",
      "Epoch 85/100\n",
      "23/23 [==============================] - 0s 5ms/step - loss: 0.6646 - accuracy: 0.3764 - val_loss: 0.6787 - val_accuracy: 0.4134\n",
      "Epoch 86/100\n",
      "23/23 [==============================] - 0s 5ms/step - loss: 0.6633 - accuracy: 0.3764 - val_loss: 0.6784 - val_accuracy: 0.4134\n",
      "Epoch 87/100\n",
      "23/23 [==============================] - 0s 5ms/step - loss: 0.6628 - accuracy: 0.3764 - val_loss: 0.6790 - val_accuracy: 0.4134\n",
      "Epoch 88/100\n",
      "23/23 [==============================] - 0s 5ms/step - loss: 0.6625 - accuracy: 0.3764 - val_loss: 0.6807 - val_accuracy: 0.4134\n",
      "Epoch 89/100\n",
      "23/23 [==============================] - 0s 5ms/step - loss: 0.6649 - accuracy: 0.3764 - val_loss: 0.6840 - val_accuracy: 0.4134\n",
      "Epoch 90/100\n",
      "23/23 [==============================] - 0s 5ms/step - loss: 0.6622 - accuracy: 0.3764 - val_loss: 0.6943 - val_accuracy: 0.4134\n",
      "Epoch 91/100\n",
      "23/23 [==============================] - 0s 5ms/step - loss: 0.6626 - accuracy: 0.3764 - val_loss: 0.6932 - val_accuracy: 0.4134\n",
      "Epoch 92/100\n",
      "23/23 [==============================] - 0s 5ms/step - loss: 0.6632 - accuracy: 0.3764 - val_loss: 0.6924 - val_accuracy: 0.4134\n",
      "Epoch 93/100\n",
      "23/23 [==============================] - 0s 5ms/step - loss: 0.6628 - accuracy: 0.3764 - val_loss: 0.6930 - val_accuracy: 0.4134\n",
      "Epoch 94/100\n",
      "23/23 [==============================] - 0s 5ms/step - loss: 0.6625 - accuracy: 0.3764 - val_loss: 0.6993 - val_accuracy: 0.4134\n",
      "Epoch 95/100\n",
      "23/23 [==============================] - 0s 5ms/step - loss: 0.6635 - accuracy: 0.3764 - val_loss: 0.6843 - val_accuracy: 0.4134\n",
      "Epoch 96/100\n",
      "23/23 [==============================] - 0s 5ms/step - loss: 0.6629 - accuracy: 0.3764 - val_loss: 0.6835 - val_accuracy: 0.4134\n",
      "Epoch 97/100\n",
      "23/23 [==============================] - 0s 5ms/step - loss: 0.6632 - accuracy: 0.3764 - val_loss: 0.6804 - val_accuracy: 0.4134\n",
      "Epoch 98/100\n",
      "23/23 [==============================] - 0s 5ms/step - loss: 0.6626 - accuracy: 0.3764 - val_loss: 0.6809 - val_accuracy: 0.4134\n",
      "Epoch 99/100\n",
      "23/23 [==============================] - 0s 5ms/step - loss: 0.6628 - accuracy: 0.3764 - val_loss: 0.6817 - val_accuracy: 0.4134\n",
      "Epoch 100/100\n",
      "23/23 [==============================] - 0s 5ms/step - loss: 0.6627 - accuracy: 0.3764 - val_loss: 0.6826 - val_accuracy: 0.4134\n"
     ]
    }
   ],
   "source": [
    "#history = model.fit(x, y, epochs=100, batch_size=32, validation_split=0.2, verbose=0)\n",
    "history = model.fit(X_train, y_train,\n",
    "                    validation_data=(X_val, y_val),\n",
    "                    epochs=100,\n",
    "                    batch_size=32)"
   ]
  },
  {
   "cell_type": "code",
   "execution_count": 65,
   "metadata": {},
   "outputs": [
    {
     "name": "stdout",
     "output_type": "stream",
     "text": [
      "6/6 [==============================] - 0s 2ms/step - loss: 0.6767 - accuracy: 0.5866\n"
     ]
    },
    {
     "data": {
      "text/plain": [
       "[0.6766908764839172, 0.5865921974182129]"
      ]
     },
     "execution_count": 65,
     "metadata": {},
     "output_type": "execute_result"
    }
   ],
   "source": [
    "model.evaluate(X_val, y_val)"
   ]
  },
  {
   "attachments": {},
   "cell_type": "markdown",
   "metadata": {},
   "source": [
    "## Tests"
   ]
  },
  {
   "cell_type": "code",
   "execution_count": 169,
   "metadata": {},
   "outputs": [],
   "source": [
    "test_data = pd.read_csv(\"data/test.csv\")"
   ]
  },
  {
   "cell_type": "code",
   "execution_count": 170,
   "metadata": {},
   "outputs": [
    {
     "name": "stdout",
     "output_type": "stream",
     "text": [
      "<class 'pandas.core.frame.DataFrame'>\n",
      "RangeIndex: 418 entries, 0 to 417\n",
      "Data columns (total 1 columns):\n",
      " #   Column  Non-Null Count  Dtype\n",
      "---  ------  --------------  -----\n",
      " 0   Pclass  418 non-null    int64\n",
      "dtypes: int64(1)\n",
      "memory usage: 3.4 KB\n"
     ]
    }
   ],
   "source": [
    "test_data.drop(['Name', 'Ticket', 'PassengerId', 'Cabin', 'Sex', 'Age', 'SibSp', 'Parch', 'Fare', 'Embarked'], axis=1, inplace=True)\n",
    "test_data.info()"
   ]
  },
  {
   "cell_type": "code",
   "execution_count": 171,
   "metadata": {},
   "outputs": [
    {
     "name": "stdout",
     "output_type": "stream",
     "text": [
      "14/14 [==============================] - 0s 1ms/step\n"
     ]
    },
    {
     "data": {
      "text/plain": [
       "array([[1.],\n",
       "       [1.],\n",
       "       [1.],\n",
       "       [1.],\n",
       "       [1.],\n",
       "       [1.],\n",
       "       [1.],\n",
       "       [1.],\n",
       "       [1.],\n",
       "       [1.],\n",
       "       [1.],\n",
       "       [1.],\n",
       "       [1.],\n",
       "       [1.],\n",
       "       [1.],\n",
       "       [1.],\n",
       "       [1.],\n",
       "       [1.],\n",
       "       [1.],\n",
       "       [1.]], dtype=float32)"
      ]
     },
     "execution_count": 171,
     "metadata": {},
     "output_type": "execute_result"
    }
   ],
   "source": [
    "prediction = model.predict(test_data)\n",
    "prediction[:20]"
   ]
  },
  {
   "attachments": {},
   "cell_type": "markdown",
   "metadata": {},
   "source": [
    "### Ignore stuff below"
   ]
  },
  {
   "cell_type": "code",
   "execution_count": null,
   "metadata": {},
   "outputs": [],
   "source": [
    "X_train, X_test, y_train, y_test = train_test_split(train_data, train_data[\"Survived\"], test_size=0.2, random_state=42)\n",
    "\n",
    "y = train_data[\"Survived\"]\n",
    "\n",
    "features = [\"Pclass\"]\n",
    "x = pd.get_dummies(train_data[features])\n",
    "\n",
    "#...\n",
    "#model.add(BatchNormalization())\n",
    "#model.add(Dropout(0.2))\n",
    "#model.add(Dense(10, activation='sigmoid'))\n",
    "#model.add(keras.layers.normalization.BatchNormalization())\n",
    "#model.add(Dropout(0.2))"
   ]
  }
 ],
 "metadata": {
  "kernelspec": {
   "display_name": "Python 3",
   "language": "python",
   "name": "python3"
  },
  "language_info": {
   "codemirror_mode": {
    "name": "ipython",
    "version": 3
   },
   "file_extension": ".py",
   "mimetype": "text/x-python",
   "name": "python",
   "nbconvert_exporter": "python",
   "pygments_lexer": "ipython3",
   "version": "3.10.7"
  },
  "orig_nbformat": 4
 },
 "nbformat": 4,
 "nbformat_minor": 2
}
